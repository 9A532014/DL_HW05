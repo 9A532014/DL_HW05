{
 "cells": [
  {
   "cell_type": "markdown",
   "metadata": {},
   "source": [
    "# a.iris資集介紹"
   ]
  },
  {
   "cell_type": "markdown",
   "metadata": {},
   "source": [
    "## 匯入模組"
   ]
  },
  {
   "cell_type": "code",
   "execution_count": 1,
   "metadata": {},
   "outputs": [
    {
     "name": "stderr",
     "output_type": "stream",
     "text": [
      "Using TensorFlow backend.\n"
     ]
    },
    {
     "name": "stdout",
     "output_type": "stream",
     "text": [
      "['Iris.csv']\n"
     ]
    }
   ],
   "source": [
    "import numpy as np\n",
    "import pandas as pd\n",
    "import tensorflow as tf\n",
    "from keras.utils import np_utils\n",
    "np.random.seed(10)\n",
    "import matplotlib.pyplot as plt\n",
    "import os\n",
    "print(os.listdir('./input'))\n",
    "from sklearn import preprocessing\n",
    "from sklearn.preprocessing import LabelEncoder #labelEncoder\n",
    "from sklearn.preprocessing import OneHotEncoder #one-hot-code\n",
    "from sklearn.model_selection import train_test_split #將X與Y隨機切成訓練與測試"
   ]
  },
  {
   "cell_type": "markdown",
   "metadata": {},
   "source": [
    "## 讀取Iris.csv資料"
   ]
  },
  {
   "cell_type": "code",
   "execution_count": 2,
   "metadata": {},
   "outputs": [],
   "source": [
    "all_df = pd.read_csv('./input/Iris.csv')"
   ]
  },
  {
   "cell_type": "code",
   "execution_count": 3,
   "metadata": {},
   "outputs": [
    {
     "data": {
      "text/html": [
       "<div>\n",
       "<style scoped>\n",
       "    .dataframe tbody tr th:only-of-type {\n",
       "        vertical-align: middle;\n",
       "    }\n",
       "\n",
       "    .dataframe tbody tr th {\n",
       "        vertical-align: top;\n",
       "    }\n",
       "\n",
       "    .dataframe thead th {\n",
       "        text-align: right;\n",
       "    }\n",
       "</style>\n",
       "<table border=\"1\" class=\"dataframe\">\n",
       "  <thead>\n",
       "    <tr style=\"text-align: right;\">\n",
       "      <th></th>\n",
       "      <th>petal_length</th>\n",
       "      <th>petal_width</th>\n",
       "      <th>sepal_length</th>\n",
       "      <th>sepal_width</th>\n",
       "      <th>label</th>\n",
       "    </tr>\n",
       "  </thead>\n",
       "  <tbody>\n",
       "    <tr>\n",
       "      <th>0</th>\n",
       "      <td>5.1</td>\n",
       "      <td>3.5</td>\n",
       "      <td>1.4</td>\n",
       "      <td>0.2</td>\n",
       "      <td>Iris-setosa</td>\n",
       "    </tr>\n",
       "    <tr>\n",
       "      <th>1</th>\n",
       "      <td>4.9</td>\n",
       "      <td>3.0</td>\n",
       "      <td>1.4</td>\n",
       "      <td>0.2</td>\n",
       "      <td>Iris-setosa</td>\n",
       "    </tr>\n",
       "    <tr>\n",
       "      <th>2</th>\n",
       "      <td>4.7</td>\n",
       "      <td>3.2</td>\n",
       "      <td>1.3</td>\n",
       "      <td>0.2</td>\n",
       "      <td>Iris-setosa</td>\n",
       "    </tr>\n",
       "    <tr>\n",
       "      <th>3</th>\n",
       "      <td>4.6</td>\n",
       "      <td>3.1</td>\n",
       "      <td>1.5</td>\n",
       "      <td>0.2</td>\n",
       "      <td>Iris-setosa</td>\n",
       "    </tr>\n",
       "    <tr>\n",
       "      <th>4</th>\n",
       "      <td>5.0</td>\n",
       "      <td>3.6</td>\n",
       "      <td>1.4</td>\n",
       "      <td>0.2</td>\n",
       "      <td>Iris-setosa</td>\n",
       "    </tr>\n",
       "    <tr>\n",
       "      <th>...</th>\n",
       "      <td>...</td>\n",
       "      <td>...</td>\n",
       "      <td>...</td>\n",
       "      <td>...</td>\n",
       "      <td>...</td>\n",
       "    </tr>\n",
       "    <tr>\n",
       "      <th>145</th>\n",
       "      <td>6.7</td>\n",
       "      <td>3.0</td>\n",
       "      <td>5.2</td>\n",
       "      <td>2.3</td>\n",
       "      <td>Iris-virginica</td>\n",
       "    </tr>\n",
       "    <tr>\n",
       "      <th>146</th>\n",
       "      <td>6.3</td>\n",
       "      <td>2.5</td>\n",
       "      <td>5.0</td>\n",
       "      <td>1.9</td>\n",
       "      <td>Iris-virginica</td>\n",
       "    </tr>\n",
       "    <tr>\n",
       "      <th>147</th>\n",
       "      <td>6.5</td>\n",
       "      <td>3.0</td>\n",
       "      <td>5.2</td>\n",
       "      <td>2.0</td>\n",
       "      <td>Iris-virginica</td>\n",
       "    </tr>\n",
       "    <tr>\n",
       "      <th>148</th>\n",
       "      <td>6.2</td>\n",
       "      <td>3.4</td>\n",
       "      <td>5.4</td>\n",
       "      <td>2.3</td>\n",
       "      <td>Iris-virginica</td>\n",
       "    </tr>\n",
       "    <tr>\n",
       "      <th>149</th>\n",
       "      <td>5.9</td>\n",
       "      <td>3.0</td>\n",
       "      <td>5.1</td>\n",
       "      <td>1.8</td>\n",
       "      <td>Iris-virginica</td>\n",
       "    </tr>\n",
       "  </tbody>\n",
       "</table>\n",
       "<p>150 rows × 5 columns</p>\n",
       "</div>"
      ],
      "text/plain": [
       "     petal_length  petal_width  sepal_length  sepal_width           label\n",
       "0             5.1          3.5           1.4          0.2     Iris-setosa\n",
       "1             4.9          3.0           1.4          0.2     Iris-setosa\n",
       "2             4.7          3.2           1.3          0.2     Iris-setosa\n",
       "3             4.6          3.1           1.5          0.2     Iris-setosa\n",
       "4             5.0          3.6           1.4          0.2     Iris-setosa\n",
       "..            ...          ...           ...          ...             ...\n",
       "145           6.7          3.0           5.2          2.3  Iris-virginica\n",
       "146           6.3          2.5           5.0          1.9  Iris-virginica\n",
       "147           6.5          3.0           5.2          2.0  Iris-virginica\n",
       "148           6.2          3.4           5.4          2.3  Iris-virginica\n",
       "149           5.9          3.0           5.1          1.8  Iris-virginica\n",
       "\n",
       "[150 rows x 5 columns]"
      ]
     },
     "execution_count": 3,
     "metadata": {},
     "output_type": "execute_result"
    }
   ],
   "source": [
    "all_df"
   ]
  },
  {
   "cell_type": "markdown",
   "metadata": {},
   "source": [
    "## 選取欄位到dataframe"
   ]
  },
  {
   "cell_type": "code",
   "execution_count": 4,
   "metadata": {},
   "outputs": [],
   "source": [
    "cols=['petal_length','petal_width','sepal_length','sepal_width','label']\n",
    "all_df=all_df[cols]"
   ]
  },
  {
   "cell_type": "code",
   "execution_count": 5,
   "metadata": {},
   "outputs": [
    {
     "data": {
      "text/html": [
       "<div>\n",
       "<style scoped>\n",
       "    .dataframe tbody tr th:only-of-type {\n",
       "        vertical-align: middle;\n",
       "    }\n",
       "\n",
       "    .dataframe tbody tr th {\n",
       "        vertical-align: top;\n",
       "    }\n",
       "\n",
       "    .dataframe thead th {\n",
       "        text-align: right;\n",
       "    }\n",
       "</style>\n",
       "<table border=\"1\" class=\"dataframe\">\n",
       "  <thead>\n",
       "    <tr style=\"text-align: right;\">\n",
       "      <th></th>\n",
       "      <th>petal_length</th>\n",
       "      <th>petal_width</th>\n",
       "      <th>sepal_length</th>\n",
       "      <th>sepal_width</th>\n",
       "      <th>label</th>\n",
       "    </tr>\n",
       "  </thead>\n",
       "  <tbody>\n",
       "    <tr>\n",
       "      <th>0</th>\n",
       "      <td>5.1</td>\n",
       "      <td>3.5</td>\n",
       "      <td>1.4</td>\n",
       "      <td>0.2</td>\n",
       "      <td>Iris-setosa</td>\n",
       "    </tr>\n",
       "    <tr>\n",
       "      <th>1</th>\n",
       "      <td>4.9</td>\n",
       "      <td>3.0</td>\n",
       "      <td>1.4</td>\n",
       "      <td>0.2</td>\n",
       "      <td>Iris-setosa</td>\n",
       "    </tr>\n",
       "    <tr>\n",
       "      <th>2</th>\n",
       "      <td>4.7</td>\n",
       "      <td>3.2</td>\n",
       "      <td>1.3</td>\n",
       "      <td>0.2</td>\n",
       "      <td>Iris-setosa</td>\n",
       "    </tr>\n",
       "    <tr>\n",
       "      <th>3</th>\n",
       "      <td>4.6</td>\n",
       "      <td>3.1</td>\n",
       "      <td>1.5</td>\n",
       "      <td>0.2</td>\n",
       "      <td>Iris-setosa</td>\n",
       "    </tr>\n",
       "    <tr>\n",
       "      <th>4</th>\n",
       "      <td>5.0</td>\n",
       "      <td>3.6</td>\n",
       "      <td>1.4</td>\n",
       "      <td>0.2</td>\n",
       "      <td>Iris-setosa</td>\n",
       "    </tr>\n",
       "    <tr>\n",
       "      <th>...</th>\n",
       "      <td>...</td>\n",
       "      <td>...</td>\n",
       "      <td>...</td>\n",
       "      <td>...</td>\n",
       "      <td>...</td>\n",
       "    </tr>\n",
       "    <tr>\n",
       "      <th>145</th>\n",
       "      <td>6.7</td>\n",
       "      <td>3.0</td>\n",
       "      <td>5.2</td>\n",
       "      <td>2.3</td>\n",
       "      <td>Iris-virginica</td>\n",
       "    </tr>\n",
       "    <tr>\n",
       "      <th>146</th>\n",
       "      <td>6.3</td>\n",
       "      <td>2.5</td>\n",
       "      <td>5.0</td>\n",
       "      <td>1.9</td>\n",
       "      <td>Iris-virginica</td>\n",
       "    </tr>\n",
       "    <tr>\n",
       "      <th>147</th>\n",
       "      <td>6.5</td>\n",
       "      <td>3.0</td>\n",
       "      <td>5.2</td>\n",
       "      <td>2.0</td>\n",
       "      <td>Iris-virginica</td>\n",
       "    </tr>\n",
       "    <tr>\n",
       "      <th>148</th>\n",
       "      <td>6.2</td>\n",
       "      <td>3.4</td>\n",
       "      <td>5.4</td>\n",
       "      <td>2.3</td>\n",
       "      <td>Iris-virginica</td>\n",
       "    </tr>\n",
       "    <tr>\n",
       "      <th>149</th>\n",
       "      <td>5.9</td>\n",
       "      <td>3.0</td>\n",
       "      <td>5.1</td>\n",
       "      <td>1.8</td>\n",
       "      <td>Iris-virginica</td>\n",
       "    </tr>\n",
       "  </tbody>\n",
       "</table>\n",
       "<p>150 rows × 5 columns</p>\n",
       "</div>"
      ],
      "text/plain": [
       "     petal_length  petal_width  sepal_length  sepal_width           label\n",
       "0             5.1          3.5           1.4          0.2     Iris-setosa\n",
       "1             4.9          3.0           1.4          0.2     Iris-setosa\n",
       "2             4.7          3.2           1.3          0.2     Iris-setosa\n",
       "3             4.6          3.1           1.5          0.2     Iris-setosa\n",
       "4             5.0          3.6           1.4          0.2     Iris-setosa\n",
       "..            ...          ...           ...          ...             ...\n",
       "145           6.7          3.0           5.2          2.3  Iris-virginica\n",
       "146           6.3          2.5           5.0          1.9  Iris-virginica\n",
       "147           6.5          3.0           5.2          2.0  Iris-virginica\n",
       "148           6.2          3.4           5.4          2.3  Iris-virginica\n",
       "149           5.9          3.0           5.1          1.8  Iris-virginica\n",
       "\n",
       "[150 rows x 5 columns]"
      ]
     },
     "execution_count": 5,
     "metadata": {},
     "output_type": "execute_result"
    }
   ],
   "source": [
    "all_df"
   ]
  },
  {
   "cell_type": "code",
   "execution_count": 6,
   "metadata": {},
   "outputs": [],
   "source": [
    "#df.describe()"
   ]
  },
  {
   "cell_type": "markdown",
   "metadata": {},
   "source": [
    "# b.資料預處理"
   ]
  },
  {
   "cell_type": "code",
   "execution_count": 7,
   "metadata": {},
   "outputs": [],
   "source": [
    "all_df['label']=all_df['label'].map({'Iris-setosa':0, 'Iris-versicolor':1, 'Iris-virginica':2}).astype(int) #先將label轉成int"
   ]
  },
  {
   "cell_type": "code",
   "execution_count": 8,
   "metadata": {},
   "outputs": [
    {
     "data": {
      "text/html": [
       "<div>\n",
       "<style scoped>\n",
       "    .dataframe tbody tr th:only-of-type {\n",
       "        vertical-align: middle;\n",
       "    }\n",
       "\n",
       "    .dataframe tbody tr th {\n",
       "        vertical-align: top;\n",
       "    }\n",
       "\n",
       "    .dataframe thead th {\n",
       "        text-align: right;\n",
       "    }\n",
       "</style>\n",
       "<table border=\"1\" class=\"dataframe\">\n",
       "  <thead>\n",
       "    <tr style=\"text-align: right;\">\n",
       "      <th></th>\n",
       "      <th>petal_length</th>\n",
       "      <th>petal_width</th>\n",
       "      <th>sepal_length</th>\n",
       "      <th>sepal_width</th>\n",
       "      <th>label</th>\n",
       "    </tr>\n",
       "  </thead>\n",
       "  <tbody>\n",
       "    <tr>\n",
       "      <th>0</th>\n",
       "      <td>5.1</td>\n",
       "      <td>3.5</td>\n",
       "      <td>1.4</td>\n",
       "      <td>0.2</td>\n",
       "      <td>0</td>\n",
       "    </tr>\n",
       "    <tr>\n",
       "      <th>1</th>\n",
       "      <td>4.9</td>\n",
       "      <td>3.0</td>\n",
       "      <td>1.4</td>\n",
       "      <td>0.2</td>\n",
       "      <td>0</td>\n",
       "    </tr>\n",
       "    <tr>\n",
       "      <th>2</th>\n",
       "      <td>4.7</td>\n",
       "      <td>3.2</td>\n",
       "      <td>1.3</td>\n",
       "      <td>0.2</td>\n",
       "      <td>0</td>\n",
       "    </tr>\n",
       "    <tr>\n",
       "      <th>3</th>\n",
       "      <td>4.6</td>\n",
       "      <td>3.1</td>\n",
       "      <td>1.5</td>\n",
       "      <td>0.2</td>\n",
       "      <td>0</td>\n",
       "    </tr>\n",
       "    <tr>\n",
       "      <th>4</th>\n",
       "      <td>5.0</td>\n",
       "      <td>3.6</td>\n",
       "      <td>1.4</td>\n",
       "      <td>0.2</td>\n",
       "      <td>0</td>\n",
       "    </tr>\n",
       "    <tr>\n",
       "      <th>...</th>\n",
       "      <td>...</td>\n",
       "      <td>...</td>\n",
       "      <td>...</td>\n",
       "      <td>...</td>\n",
       "      <td>...</td>\n",
       "    </tr>\n",
       "    <tr>\n",
       "      <th>145</th>\n",
       "      <td>6.7</td>\n",
       "      <td>3.0</td>\n",
       "      <td>5.2</td>\n",
       "      <td>2.3</td>\n",
       "      <td>2</td>\n",
       "    </tr>\n",
       "    <tr>\n",
       "      <th>146</th>\n",
       "      <td>6.3</td>\n",
       "      <td>2.5</td>\n",
       "      <td>5.0</td>\n",
       "      <td>1.9</td>\n",
       "      <td>2</td>\n",
       "    </tr>\n",
       "    <tr>\n",
       "      <th>147</th>\n",
       "      <td>6.5</td>\n",
       "      <td>3.0</td>\n",
       "      <td>5.2</td>\n",
       "      <td>2.0</td>\n",
       "      <td>2</td>\n",
       "    </tr>\n",
       "    <tr>\n",
       "      <th>148</th>\n",
       "      <td>6.2</td>\n",
       "      <td>3.4</td>\n",
       "      <td>5.4</td>\n",
       "      <td>2.3</td>\n",
       "      <td>2</td>\n",
       "    </tr>\n",
       "    <tr>\n",
       "      <th>149</th>\n",
       "      <td>5.9</td>\n",
       "      <td>3.0</td>\n",
       "      <td>5.1</td>\n",
       "      <td>1.8</td>\n",
       "      <td>2</td>\n",
       "    </tr>\n",
       "  </tbody>\n",
       "</table>\n",
       "<p>150 rows × 5 columns</p>\n",
       "</div>"
      ],
      "text/plain": [
       "     petal_length  petal_width  sepal_length  sepal_width  label\n",
       "0             5.1          3.5           1.4          0.2      0\n",
       "1             4.9          3.0           1.4          0.2      0\n",
       "2             4.7          3.2           1.3          0.2      0\n",
       "3             4.6          3.1           1.5          0.2      0\n",
       "4             5.0          3.6           1.4          0.2      0\n",
       "..            ...          ...           ...          ...    ...\n",
       "145           6.7          3.0           5.2          2.3      2\n",
       "146           6.3          2.5           5.0          1.9      2\n",
       "147           6.5          3.0           5.2          2.0      2\n",
       "148           6.2          3.4           5.4          2.3      2\n",
       "149           5.9          3.0           5.1          1.8      2\n",
       "\n",
       "[150 rows x 5 columns]"
      ]
     },
     "execution_count": 8,
     "metadata": {},
     "output_type": "execute_result"
    }
   ],
   "source": [
    "df=all_df\n",
    "df"
   ]
  },
  {
   "cell_type": "code",
   "execution_count": 9,
   "metadata": {},
   "outputs": [],
   "source": [
    "Label = df.values[:,4]    #類別\n",
    "Features = df.values[:,:4] #前4筆是特徵"
   ]
  },
  {
   "cell_type": "code",
   "execution_count": 10,
   "metadata": {},
   "outputs": [],
   "source": [
    "x_train, x_test, y_train, y_test = train_test_split(Features, Label, test_size=0.3) #分割資料"
   ]
  },
  {
   "cell_type": "code",
   "execution_count": 11,
   "metadata": {},
   "outputs": [
    {
     "name": "stdout",
     "output_type": "stream",
     "text": [
      "WARNING:tensorflow:\n",
      "The TensorFlow contrib module will not be included in TensorFlow 2.0.\n",
      "For more information, please see:\n",
      "  * https://github.com/tensorflow/community/blob/master/rfcs/20180907-contrib-sunset.md\n",
      "  * https://github.com/tensorflow/addons\n",
      "  * https://github.com/tensorflow/io (for I/O related ops)\n",
      "If you depend on functionality not listed there, please file an issue.\n",
      "\n"
     ]
    }
   ],
   "source": [
    "y_train_onehot=tf.contrib.keras.utils.to_categorical(y_train) #將y訓練資料轉成one-hot-code"
   ]
  },
  {
   "cell_type": "code",
   "execution_count": 12,
   "metadata": {},
   "outputs": [],
   "source": [
    "y_test_onehot=tf.contrib.keras.utils.to_categorical(y_test) #將y測試資料轉成one-hot-code"
   ]
  },
  {
   "cell_type": "code",
   "execution_count": 13,
   "metadata": {},
   "outputs": [
    {
     "name": "stdout",
     "output_type": "stream",
     "text": [
      "total: 150 train: 105 test: 45\n"
     ]
    }
   ],
   "source": [
    "print('total:', len(df),\n",
    "      'train:', len(x_train),\n",
    "      'test:', len(x_test))"
   ]
  },
  {
   "cell_type": "markdown",
   "metadata": {},
   "source": [
    "## 將label轉成one-hot-code"
   ]
  },
  {
   "cell_type": "markdown",
   "metadata": {},
   "source": [
    "data_onehot = pd.get_dummies(df,columns=['label'])\n",
    "pd.DataFrame(data_onehot)"
   ]
  },
  {
   "cell_type": "markdown",
   "metadata": {},
   "source": [
    "## 將dataframe轉換成array"
   ]
  },
  {
   "cell_type": "markdown",
   "metadata": {},
   "source": [
    "ndarray = data_onehot.values #dataframe轉成array"
   ]
  },
  {
   "cell_type": "markdown",
   "metadata": {},
   "source": [
    "ndarray.shape #查看ndarray的shape"
   ]
  },
  {
   "cell_type": "markdown",
   "metadata": {},
   "source": [
    "ndarray.shape #查看ndarray的shape"
   ]
  },
  {
   "cell_type": "markdown",
   "metadata": {},
   "source": [
    "## 將ndarray特徵欄位進行標準化"
   ]
  },
  {
   "cell_type": "markdown",
   "metadata": {},
   "source": [
    "minmax_scale = preprocessing.MinMaxScaler(feature_range=(0, 1)) #建立MinMaxScaler標準化刻度minmax_scale"
   ]
  },
  {
   "cell_type": "markdown",
   "metadata": {},
   "source": [
    "scaledFeatures = minmax_scale.fit_transform(Features) #使用minmax_scale.fit_tranform進行標準化"
   ]
  },
  {
   "cell_type": "markdown",
   "metadata": {},
   "source": [
    "scaledFeatures[:2] #查看標準化後的特徵欄位前2筆"
   ]
  },
  {
   "cell_type": "markdown",
   "metadata": {},
   "source": [
    "## 建立PreprocessData函數進行資料之預處理"
   ]
  },
  {
   "cell_type": "markdown",
   "metadata": {},
   "source": [
    "def PreprocessData(raw_df):\n",
    "    data_onehot = pd.get_dummies(df)\n",
    "    \n",
    "    ndarray = data_onehot.values\n",
    "    Label = df.values[:,4]    \n",
    "    Features = df.values[:,:4]\n",
    "    \n",
    "    minmax_scale = preprocessing.MinMaxScaler(feature_range=(0, 1))\n",
    "    scaledFeatures = minmax_scale.fit_transform(Features)\n",
    "    \n",
    "    return scaledFeatures, Label"
   ]
  },
  {
   "cell_type": "markdown",
   "metadata": {},
   "source": [
    "train_Features,train_Label = PreprocessData(train_df) #將訓練資料與測試資料做預處理\n",
    "test_Features, test_Label = PreprocessData(test_df)"
   ]
  },
  {
   "cell_type": "markdown",
   "metadata": {},
   "source": [
    "train_Features,train_Label = PreprocessData(train_df) #將訓練資料與測試資料做預處理\n",
    "test_Features, test_Label = PreprocessData(test_df)"
   ]
  },
  {
   "cell_type": "markdown",
   "metadata": {},
   "source": [
    "train_Features[:2] #查看資料預處理後，訓練資料特徵欄位"
   ]
  },
  {
   "cell_type": "markdown",
   "metadata": {},
   "source": [
    "test_Features[:2] #查看資料預處理後，訓練資料標籤欄位"
   ]
  },
  {
   "cell_type": "markdown",
   "metadata": {},
   "source": [
    "# c.建立模型"
   ]
  },
  {
   "cell_type": "markdown",
   "metadata": {},
   "source": [
    "## 匯入模組"
   ]
  },
  {
   "cell_type": "code",
   "execution_count": 14,
   "metadata": {},
   "outputs": [],
   "source": [
    "from keras.models import Sequential\n",
    "from keras.layers import Dense,Dropout"
   ]
  },
  {
   "cell_type": "code",
   "execution_count": 15,
   "metadata": {},
   "outputs": [
    {
     "name": "stdout",
     "output_type": "stream",
     "text": [
      "WARNING:tensorflow:From C:\\Users\\Admin2\\Anaconda3\\envs\\tf1\\lib\\site-packages\\keras\\backend\\tensorflow_backend.py:74: The name tf.get_default_graph is deprecated. Please use tf.compat.v1.get_default_graph instead.\n",
      "\n"
     ]
    }
   ],
   "source": [
    "model = Sequential() #建立keras Sequential模型"
   ]
  },
  {
   "cell_type": "code",
   "execution_count": 16,
   "metadata": {},
   "outputs": [
    {
     "name": "stdout",
     "output_type": "stream",
     "text": [
      "WARNING:tensorflow:From C:\\Users\\Admin2\\Anaconda3\\envs\\tf1\\lib\\site-packages\\keras\\backend\\tensorflow_backend.py:517: The name tf.placeholder is deprecated. Please use tf.compat.v1.placeholder instead.\n",
      "\n",
      "WARNING:tensorflow:From C:\\Users\\Admin2\\Anaconda3\\envs\\tf1\\lib\\site-packages\\keras\\backend\\tensorflow_backend.py:4138: The name tf.random_uniform is deprecated. Please use tf.random.uniform instead.\n",
      "\n"
     ]
    }
   ],
   "source": [
    "model.add(Dense(units=10, input_dim=4,        #建立輸入層與隱藏層1，輸入層4個特徵神經元，隱藏層1有10個神經元\n",
    "                kernel_initializer='uniform',\n",
    "                activation='relu'))"
   ]
  },
  {
   "cell_type": "code",
   "execution_count": 17,
   "metadata": {},
   "outputs": [],
   "source": [
    "model.add(Dense(units=10,                     #建立隱藏層2，隱藏層2有10個神經元\n",
    "                kernel_initializer='uniform',\n",
    "                activation='relu'))"
   ]
  },
  {
   "cell_type": "code",
   "execution_count": 18,
   "metadata": {},
   "outputs": [],
   "source": [
    "model.add(Dense(units=3,                      #建立輸出層，輸出層3個品種\n",
    "                kernel_initializer='uniform',\n",
    "                activation='softmax'))"
   ]
  },
  {
   "cell_type": "code",
   "execution_count": 19,
   "metadata": {},
   "outputs": [
    {
     "name": "stdout",
     "output_type": "stream",
     "text": [
      "_________________________________________________________________\n",
      "Layer (type)                 Output Shape              Param #   \n",
      "=================================================================\n",
      "dense_1 (Dense)              (None, 10)                50        \n",
      "_________________________________________________________________\n",
      "dense_2 (Dense)              (None, 10)                110       \n",
      "_________________________________________________________________\n",
      "dense_3 (Dense)              (None, 3)                 33        \n",
      "=================================================================\n",
      "Total params: 193\n",
      "Trainable params: 193\n",
      "Non-trainable params: 0\n",
      "_________________________________________________________________\n",
      "None\n"
     ]
    }
   ],
   "source": [
    "print(model.summary()) #查看參數"
   ]
  },
  {
   "cell_type": "markdown",
   "metadata": {},
   "source": [
    "# d.訓練模型"
   ]
  },
  {
   "cell_type": "code",
   "execution_count": 20,
   "metadata": {},
   "outputs": [
    {
     "name": "stdout",
     "output_type": "stream",
     "text": [
      "WARNING:tensorflow:From C:\\Users\\Admin2\\Anaconda3\\envs\\tf1\\lib\\site-packages\\keras\\optimizers.py:790: The name tf.train.Optimizer is deprecated. Please use tf.compat.v1.train.Optimizer instead.\n",
      "\n",
      "WARNING:tensorflow:From C:\\Users\\Admin2\\Anaconda3\\envs\\tf1\\lib\\site-packages\\keras\\backend\\tensorflow_backend.py:3376: The name tf.log is deprecated. Please use tf.math.log instead.\n",
      "\n",
      "WARNING:tensorflow:From C:\\Users\\Admin2\\Anaconda3\\envs\\tf1\\lib\\site-packages\\tensorflow_core\\python\\ops\\nn_impl.py:183: where (from tensorflow.python.ops.array_ops) is deprecated and will be removed in a future version.\n",
      "Instructions for updating:\n",
      "Use tf.where in 2.0, which has the same broadcast rule as np.where\n"
     ]
    }
   ],
   "source": [
    "model.compile(loss='binary_crossentropy',              #定義訓練方式\n",
    "              optimizer='adam', metrics=['accuracy'])"
   ]
  },
  {
   "cell_type": "code",
   "execution_count": 21,
   "metadata": {},
   "outputs": [
    {
     "name": "stdout",
     "output_type": "stream",
     "text": [
      "WARNING:tensorflow:From C:\\Users\\Admin2\\Anaconda3\\envs\\tf1\\lib\\site-packages\\keras\\backend\\tensorflow_backend.py:986: The name tf.assign_add is deprecated. Please use tf.compat.v1.assign_add instead.\n",
      "\n",
      "WARNING:tensorflow:From C:\\Users\\Admin2\\Anaconda3\\envs\\tf1\\lib\\site-packages\\keras\\backend\\tensorflow_backend.py:973: The name tf.assign is deprecated. Please use tf.compat.v1.assign instead.\n",
      "\n",
      "WARNING:tensorflow:From C:\\Users\\Admin2\\Anaconda3\\envs\\tf1\\lib\\site-packages\\keras\\backend\\tensorflow_backend.py:2741: The name tf.Session is deprecated. Please use tf.compat.v1.Session instead.\n",
      "\n",
      "Train on 94 samples, validate on 11 samples\n",
      "Epoch 1/120\n",
      "WARNING:tensorflow:From C:\\Users\\Admin2\\Anaconda3\\envs\\tf1\\lib\\site-packages\\keras\\backend\\tensorflow_backend.py:174: The name tf.get_default_session is deprecated. Please use tf.compat.v1.get_default_session instead.\n",
      "\n",
      "WARNING:tensorflow:From C:\\Users\\Admin2\\Anaconda3\\envs\\tf1\\lib\\site-packages\\keras\\backend\\tensorflow_backend.py:181: The name tf.ConfigProto is deprecated. Please use tf.compat.v1.ConfigProto instead.\n",
      "\n",
      "WARNING:tensorflow:From C:\\Users\\Admin2\\Anaconda3\\envs\\tf1\\lib\\site-packages\\keras\\backend\\tensorflow_backend.py:190: The name tf.global_variables is deprecated. Please use tf.compat.v1.global_variables instead.\n",
      "\n",
      "WARNING:tensorflow:From C:\\Users\\Admin2\\Anaconda3\\envs\\tf1\\lib\\site-packages\\keras\\backend\\tensorflow_backend.py:199: The name tf.is_variable_initialized is deprecated. Please use tf.compat.v1.is_variable_initialized instead.\n",
      "\n",
      "WARNING:tensorflow:From C:\\Users\\Admin2\\Anaconda3\\envs\\tf1\\lib\\site-packages\\keras\\backend\\tensorflow_backend.py:206: The name tf.variables_initializer is deprecated. Please use tf.compat.v1.variables_initializer instead.\n",
      "\n",
      " - 0s - loss: 0.6366 - acc: 0.6667 - val_loss: 0.6365 - val_acc: 0.6667\n",
      "Epoch 2/120\n",
      " - 0s - loss: 0.6365 - acc: 0.6667 - val_loss: 0.6364 - val_acc: 0.6667\n",
      "Epoch 3/120\n",
      " - 0s - loss: 0.6365 - acc: 0.6667 - val_loss: 0.6365 - val_acc: 0.6667\n",
      "Epoch 4/120\n",
      " - 0s - loss: 0.6364 - acc: 0.6667 - val_loss: 0.6364 - val_acc: 0.6667\n",
      "Epoch 5/120\n",
      " - 0s - loss: 0.6364 - acc: 0.6667 - val_loss: 0.6364 - val_acc: 0.6667\n",
      "Epoch 6/120\n",
      " - 0s - loss: 0.6364 - acc: 0.6667 - val_loss: 0.6363 - val_acc: 0.6667\n",
      "Epoch 7/120\n",
      " - 0s - loss: 0.6363 - acc: 0.6667 - val_loss: 0.6363 - val_acc: 0.6667\n",
      "Epoch 8/120\n",
      " - 0s - loss: 0.6362 - acc: 0.6667 - val_loss: 0.6361 - val_acc: 0.6667\n",
      "Epoch 9/120\n",
      " - 0s - loss: 0.6361 - acc: 0.6667 - val_loss: 0.6360 - val_acc: 0.6667\n",
      "Epoch 10/120\n",
      " - 0s - loss: 0.6360 - acc: 0.6667 - val_loss: 0.6357 - val_acc: 0.6667\n",
      "Epoch 11/120\n",
      " - 0s - loss: 0.6358 - acc: 0.6667 - val_loss: 0.6355 - val_acc: 0.6667\n",
      "Epoch 12/120\n",
      " - 0s - loss: 0.6356 - acc: 0.6667 - val_loss: 0.6350 - val_acc: 0.6667\n",
      "Epoch 13/120\n",
      " - 0s - loss: 0.6352 - acc: 0.6667 - val_loss: 0.6346 - val_acc: 0.6667\n",
      "Epoch 14/120\n",
      " - 0s - loss: 0.6349 - acc: 0.6667 - val_loss: 0.6340 - val_acc: 0.6667\n",
      "Epoch 15/120\n",
      " - 0s - loss: 0.6344 - acc: 0.6667 - val_loss: 0.6334 - val_acc: 0.6667\n",
      "Epoch 16/120\n",
      " - 0s - loss: 0.6339 - acc: 0.6667 - val_loss: 0.6328 - val_acc: 0.6667\n",
      "Epoch 17/120\n",
      " - 0s - loss: 0.6332 - acc: 0.6667 - val_loss: 0.6320 - val_acc: 0.6667\n",
      "Epoch 18/120\n",
      " - 0s - loss: 0.6325 - acc: 0.6667 - val_loss: 0.6310 - val_acc: 0.6667\n",
      "Epoch 19/120\n",
      " - 0s - loss: 0.6315 - acc: 0.6667 - val_loss: 0.6299 - val_acc: 0.6667\n",
      "Epoch 20/120\n",
      " - 0s - loss: 0.6305 - acc: 0.6667 - val_loss: 0.6288 - val_acc: 0.6667\n",
      "Epoch 21/120\n",
      " - 0s - loss: 0.6292 - acc: 0.6667 - val_loss: 0.6274 - val_acc: 0.6667\n",
      "Epoch 22/120\n",
      " - 0s - loss: 0.6279 - acc: 0.6667 - val_loss: 0.6259 - val_acc: 0.6667\n",
      "Epoch 23/120\n",
      " - 0s - loss: 0.6264 - acc: 0.6667 - val_loss: 0.6243 - val_acc: 0.6667\n",
      "Epoch 24/120\n",
      " - 0s - loss: 0.6247 - acc: 0.6667 - val_loss: 0.6224 - val_acc: 0.6667\n",
      "Epoch 25/120\n",
      " - 0s - loss: 0.6228 - acc: 0.6667 - val_loss: 0.6203 - val_acc: 0.6667\n",
      "Epoch 26/120\n",
      " - 0s - loss: 0.6205 - acc: 0.6667 - val_loss: 0.6178 - val_acc: 0.6667\n",
      "Epoch 27/120\n",
      " - 0s - loss: 0.6181 - acc: 0.6667 - val_loss: 0.6150 - val_acc: 0.6667\n",
      "Epoch 28/120\n",
      " - 0s - loss: 0.6153 - acc: 0.6667 - val_loss: 0.6118 - val_acc: 0.6667\n",
      "Epoch 29/120\n",
      " - 0s - loss: 0.6121 - acc: 0.6667 - val_loss: 0.6083 - val_acc: 0.6667\n",
      "Epoch 30/120\n",
      " - 0s - loss: 0.6088 - acc: 0.6667 - val_loss: 0.6045 - val_acc: 0.6667\n",
      "Epoch 31/120\n",
      " - 0s - loss: 0.6053 - acc: 0.6667 - val_loss: 0.6004 - val_acc: 0.6667\n",
      "Epoch 32/120\n",
      " - 0s - loss: 0.6014 - acc: 0.6667 - val_loss: 0.5955 - val_acc: 0.6667\n",
      "Epoch 33/120\n",
      " - 0s - loss: 0.5973 - acc: 0.6667 - val_loss: 0.5901 - val_acc: 0.6667\n",
      "Epoch 34/120\n",
      " - 0s - loss: 0.5928 - acc: 0.6667 - val_loss: 0.5847 - val_acc: 0.6667\n",
      "Epoch 35/120\n",
      " - 0s - loss: 0.5883 - acc: 0.6667 - val_loss: 0.5792 - val_acc: 0.6667\n",
      "Epoch 36/120\n",
      " - 0s - loss: 0.5836 - acc: 0.6667 - val_loss: 0.5734 - val_acc: 0.6667\n",
      "Epoch 37/120\n",
      " - 0s - loss: 0.5787 - acc: 0.6667 - val_loss: 0.5672 - val_acc: 0.6667\n",
      "Epoch 38/120\n",
      " - 0s - loss: 0.5734 - acc: 0.6667 - val_loss: 0.5610 - val_acc: 0.6667\n",
      "Epoch 39/120\n",
      " - 0s - loss: 0.5681 - acc: 0.6667 - val_loss: 0.5549 - val_acc: 0.6667\n",
      "Epoch 40/120\n",
      " - 0s - loss: 0.5629 - acc: 0.6702 - val_loss: 0.5481 - val_acc: 0.6667\n",
      "Epoch 41/120\n",
      " - 0s - loss: 0.5576 - acc: 0.6809 - val_loss: 0.5410 - val_acc: 0.6667\n",
      "Epoch 42/120\n",
      " - 0s - loss: 0.5518 - acc: 0.6986 - val_loss: 0.5336 - val_acc: 0.6970\n",
      "Epoch 43/120\n",
      " - 0s - loss: 0.5459 - acc: 0.7163 - val_loss: 0.5257 - val_acc: 0.7273\n",
      "Epoch 44/120\n",
      " - 0s - loss: 0.5398 - acc: 0.7447 - val_loss: 0.5176 - val_acc: 0.7576\n",
      "Epoch 45/120\n",
      " - 0s - loss: 0.5338 - acc: 0.7553 - val_loss: 0.5091 - val_acc: 0.7879\n",
      "Epoch 46/120\n",
      " - 0s - loss: 0.5274 - acc: 0.7553 - val_loss: 0.5006 - val_acc: 0.7879\n",
      "Epoch 47/120\n",
      " - 0s - loss: 0.5208 - acc: 0.7660 - val_loss: 0.4920 - val_acc: 0.7879\n",
      "Epoch 48/120\n",
      " - 0s - loss: 0.5142 - acc: 0.7660 - val_loss: 0.4833 - val_acc: 0.7879\n",
      "Epoch 49/120\n",
      " - 0s - loss: 0.5073 - acc: 0.7624 - val_loss: 0.4742 - val_acc: 0.7879\n",
      "Epoch 50/120\n",
      " - 0s - loss: 0.5003 - acc: 0.7589 - val_loss: 0.4647 - val_acc: 0.7879\n",
      "Epoch 51/120\n",
      " - 0s - loss: 0.4934 - acc: 0.7589 - val_loss: 0.4551 - val_acc: 0.7879\n",
      "Epoch 52/120\n",
      " - 0s - loss: 0.4863 - acc: 0.7447 - val_loss: 0.4455 - val_acc: 0.7879\n",
      "Epoch 53/120\n",
      " - 0s - loss: 0.4788 - acc: 0.7837 - val_loss: 0.4359 - val_acc: 0.8788\n",
      "Epoch 54/120\n",
      " - 0s - loss: 0.4716 - acc: 0.8227 - val_loss: 0.4260 - val_acc: 0.9091\n",
      "Epoch 55/120\n",
      " - 0s - loss: 0.4639 - acc: 0.8475 - val_loss: 0.4159 - val_acc: 0.9091\n",
      "Epoch 56/120\n",
      " - 0s - loss: 0.4567 - acc: 0.8511 - val_loss: 0.4061 - val_acc: 0.9091\n",
      "Epoch 57/120\n",
      " - 0s - loss: 0.4492 - acc: 0.8511 - val_loss: 0.3961 - val_acc: 0.9091\n",
      "Epoch 58/120\n",
      " - 0s - loss: 0.4416 - acc: 0.8404 - val_loss: 0.3860 - val_acc: 0.9091\n",
      "Epoch 59/120\n",
      " - 0s - loss: 0.4345 - acc: 0.8369 - val_loss: 0.3768 - val_acc: 0.9091\n",
      "Epoch 60/120\n",
      " - 0s - loss: 0.4280 - acc: 0.8262 - val_loss: 0.3683 - val_acc: 0.9091\n",
      "Epoch 61/120\n",
      " - 0s - loss: 0.4218 - acc: 0.8262 - val_loss: 0.3598 - val_acc: 0.9091\n",
      "Epoch 62/120\n",
      " - 0s - loss: 0.4152 - acc: 0.8227 - val_loss: 0.3520 - val_acc: 0.9091\n",
      "Epoch 63/120\n",
      " - 0s - loss: 0.4093 - acc: 0.8191 - val_loss: 0.3438 - val_acc: 0.9091\n",
      "Epoch 64/120\n",
      " - 0s - loss: 0.4031 - acc: 0.8156 - val_loss: 0.3366 - val_acc: 0.9091\n",
      "Epoch 65/120\n",
      " - 0s - loss: 0.3975 - acc: 0.8156 - val_loss: 0.3298 - val_acc: 0.9091\n",
      "Epoch 66/120\n",
      " - 0s - loss: 0.3917 - acc: 0.8156 - val_loss: 0.3225 - val_acc: 0.9091\n",
      "Epoch 67/120\n",
      " - 0s - loss: 0.3865 - acc: 0.8121 - val_loss: 0.3157 - val_acc: 0.9091\n",
      "Epoch 68/120\n",
      " - 0s - loss: 0.3813 - acc: 0.8121 - val_loss: 0.3100 - val_acc: 0.9091\n",
      "Epoch 69/120\n",
      " - 0s - loss: 0.3763 - acc: 0.8121 - val_loss: 0.3046 - val_acc: 0.9091\n",
      "Epoch 70/120\n",
      " - 0s - loss: 0.3716 - acc: 0.8121 - val_loss: 0.2999 - val_acc: 0.9091\n",
      "Epoch 71/120\n",
      " - 0s - loss: 0.3669 - acc: 0.8156 - val_loss: 0.2950 - val_acc: 0.9091\n",
      "Epoch 72/120\n",
      " - 0s - loss: 0.3623 - acc: 0.8156 - val_loss: 0.2904 - val_acc: 0.9091\n",
      "Epoch 73/120\n",
      " - 0s - loss: 0.3579 - acc: 0.8156 - val_loss: 0.2859 - val_acc: 0.9091\n",
      "Epoch 74/120\n",
      " - 0s - loss: 0.3539 - acc: 0.8156 - val_loss: 0.2815 - val_acc: 0.9091\n",
      "Epoch 75/120\n",
      " - 0s - loss: 0.3497 - acc: 0.8156 - val_loss: 0.2774 - val_acc: 0.9091\n",
      "Epoch 76/120\n",
      " - 0s - loss: 0.3459 - acc: 0.8156 - val_loss: 0.2734 - val_acc: 0.9091\n",
      "Epoch 77/120\n",
      " - 0s - loss: 0.3421 - acc: 0.8156 - val_loss: 0.2700 - val_acc: 0.9091\n"
     ]
    },
    {
     "name": "stdout",
     "output_type": "stream",
     "text": [
      "Epoch 78/120\n",
      " - 0s - loss: 0.3386 - acc: 0.8156 - val_loss: 0.2665 - val_acc: 0.9091\n",
      "Epoch 79/120\n",
      " - 0s - loss: 0.3345 - acc: 0.8191 - val_loss: 0.2648 - val_acc: 0.9091\n",
      "Epoch 80/120\n",
      " - 0s - loss: 0.3315 - acc: 0.8298 - val_loss: 0.2633 - val_acc: 0.9091\n",
      "Epoch 81/120\n",
      " - 0s - loss: 0.3283 - acc: 0.8404 - val_loss: 0.2614 - val_acc: 0.9091\n",
      "Epoch 82/120\n",
      " - 0s - loss: 0.3250 - acc: 0.8475 - val_loss: 0.2583 - val_acc: 0.9091\n",
      "Epoch 83/120\n",
      " - 0s - loss: 0.3217 - acc: 0.8475 - val_loss: 0.2552 - val_acc: 0.9091\n",
      "Epoch 84/120\n",
      " - 0s - loss: 0.3185 - acc: 0.8475 - val_loss: 0.2519 - val_acc: 0.9091\n",
      "Epoch 85/120\n",
      " - 0s - loss: 0.3154 - acc: 0.8440 - val_loss: 0.2484 - val_acc: 0.9091\n",
      "Epoch 86/120\n",
      " - 0s - loss: 0.3124 - acc: 0.8369 - val_loss: 0.2460 - val_acc: 0.9091\n",
      "Epoch 87/120\n",
      " - 0s - loss: 0.3096 - acc: 0.8404 - val_loss: 0.2436 - val_acc: 0.9091\n",
      "Epoch 88/120\n",
      " - 0s - loss: 0.3069 - acc: 0.8404 - val_loss: 0.2406 - val_acc: 0.9091\n",
      "Epoch 89/120\n",
      " - 0s - loss: 0.3040 - acc: 0.8475 - val_loss: 0.2387 - val_acc: 0.9091\n",
      "Epoch 90/120\n",
      " - 0s - loss: 0.3013 - acc: 0.8511 - val_loss: 0.2361 - val_acc: 0.9091\n",
      "Epoch 91/120\n",
      " - 0s - loss: 0.2984 - acc: 0.8475 - val_loss: 0.2324 - val_acc: 0.9091\n",
      "Epoch 92/120\n",
      " - 0s - loss: 0.2959 - acc: 0.8404 - val_loss: 0.2289 - val_acc: 0.9091\n",
      "Epoch 93/120\n",
      " - 0s - loss: 0.2937 - acc: 0.8369 - val_loss: 0.2256 - val_acc: 0.9091\n",
      "Epoch 94/120\n",
      " - 0s - loss: 0.2913 - acc: 0.8369 - val_loss: 0.2233 - val_acc: 0.9091\n",
      "Epoch 95/120\n",
      " - 0s - loss: 0.2885 - acc: 0.8404 - val_loss: 0.2227 - val_acc: 0.9091\n",
      "Epoch 96/120\n",
      " - 0s - loss: 0.2859 - acc: 0.8546 - val_loss: 0.2220 - val_acc: 0.9091\n",
      "Epoch 97/120\n",
      " - 0s - loss: 0.2834 - acc: 0.8546 - val_loss: 0.2200 - val_acc: 0.9091\n",
      "Epoch 98/120\n",
      " - 0s - loss: 0.2809 - acc: 0.8546 - val_loss: 0.2179 - val_acc: 0.9091\n",
      "Epoch 99/120\n",
      " - 0s - loss: 0.2785 - acc: 0.8546 - val_loss: 0.2149 - val_acc: 0.9091\n",
      "Epoch 100/120\n",
      " - 0s - loss: 0.2760 - acc: 0.8546 - val_loss: 0.2120 - val_acc: 0.9091\n",
      "Epoch 101/120\n",
      " - 0s - loss: 0.2735 - acc: 0.8546 - val_loss: 0.2099 - val_acc: 0.9091\n",
      "Epoch 102/120\n",
      " - 0s - loss: 0.2712 - acc: 0.8546 - val_loss: 0.2085 - val_acc: 0.9091\n",
      "Epoch 103/120\n",
      " - 0s - loss: 0.2686 - acc: 0.8546 - val_loss: 0.2064 - val_acc: 0.9091\n",
      "Epoch 104/120\n",
      " - 0s - loss: 0.2663 - acc: 0.8546 - val_loss: 0.2048 - val_acc: 0.9394\n",
      "Epoch 105/120\n",
      " - 0s - loss: 0.2638 - acc: 0.8582 - val_loss: 0.2027 - val_acc: 0.9394\n",
      "Epoch 106/120\n",
      " - 0s - loss: 0.2618 - acc: 0.8688 - val_loss: 0.2007 - val_acc: 0.9394\n",
      "Epoch 107/120\n",
      " - 0s - loss: 0.2601 - acc: 0.8759 - val_loss: 0.1967 - val_acc: 0.9394\n",
      "Epoch 108/120\n",
      " - 0s - loss: 0.2571 - acc: 0.8830 - val_loss: 0.1958 - val_acc: 0.9394\n",
      "Epoch 109/120\n",
      " - 0s - loss: 0.2550 - acc: 0.9043 - val_loss: 0.1957 - val_acc: 0.9394\n",
      "Epoch 110/120\n",
      " - 0s - loss: 0.2523 - acc: 0.9220 - val_loss: 0.1936 - val_acc: 0.9697\n",
      "Epoch 111/120\n",
      " - 0s - loss: 0.2501 - acc: 0.9220 - val_loss: 0.1915 - val_acc: 0.9697\n",
      "Epoch 112/120\n",
      " - 0s - loss: 0.2478 - acc: 0.9255 - val_loss: 0.1912 - val_acc: 0.9697\n",
      "Epoch 113/120\n",
      " - 0s - loss: 0.2461 - acc: 0.9397 - val_loss: 0.1915 - val_acc: 0.9697\n",
      "Epoch 114/120\n",
      " - 0s - loss: 0.2434 - acc: 0.9504 - val_loss: 0.1891 - val_acc: 0.9697\n",
      "Epoch 115/120\n",
      " - 0s - loss: 0.2411 - acc: 0.9504 - val_loss: 0.1871 - val_acc: 0.9697\n",
      "Epoch 116/120\n",
      " - 0s - loss: 0.2388 - acc: 0.9504 - val_loss: 0.1852 - val_acc: 0.9697\n",
      "Epoch 117/120\n",
      " - 0s - loss: 0.2367 - acc: 0.9504 - val_loss: 0.1836 - val_acc: 1.0000\n",
      "Epoch 118/120\n",
      " - 0s - loss: 0.2343 - acc: 0.9574 - val_loss: 0.1831 - val_acc: 1.0000\n",
      "Epoch 119/120\n",
      " - 0s - loss: 0.2321 - acc: 0.9610 - val_loss: 0.1832 - val_acc: 1.0000\n",
      "Epoch 120/120\n",
      " - 0s - loss: 0.2301 - acc: 0.9716 - val_loss: 0.1827 - val_acc: 1.0000\n"
     ]
    }
   ],
   "source": [
    "train_history = model.fit(x=x_train,\n",
    "                          y=y_train_onehot,\n",
    "                          validation_split=0.1,    #90%作為訓練資料，10%作為測試資料\n",
    "                          epochs=120,               #執行120次訓練週期\n",
    "                          batch_size=40,verbose=2) #每一批次40筆資料"
   ]
  },
  {
   "cell_type": "markdown",
   "metadata": {},
   "source": [
    "# e.以圖形顯示訓練過程的loss & accuracy"
   ]
  },
  {
   "cell_type": "code",
   "execution_count": 22,
   "metadata": {},
   "outputs": [],
   "source": [
    "def show_train_history(train_history, train, validation):\n",
    "    plt.plot(train_history.history[train])\n",
    "    plt.plot(train_history.history[validation])\n",
    "    plt.title('Train History')\n",
    "    plt.ylabel(train)\n",
    "    plt.xlabel('Epoch')\n",
    "    plt.legend(['train', 'validation'], loc='upper left')\n",
    "    plt.show()"
   ]
  },
  {
   "cell_type": "code",
   "execution_count": 23,
   "metadata": {},
   "outputs": [
    {
     "data": {
      "image/png": "[encoded data removed]",
      "text/plain": [
       "<Figure size 432x288 with 1 Axes>"
      ]
     },
     "metadata": {
      "needs_background": "light"
     },
     "output_type": "display_data"
    }
   ],
   "source": [
    "show_train_history(train_history, 'acc', 'val_acc') #畫出accuracy執行結果"
   ]
  },
  {
   "cell_type": "code",
   "execution_count": 24,
   "metadata": {},
   "outputs": [
    {
     "data": {
      "image/png": "[encoded data removed]",
      "text/plain": [
       "<Figure size 432x288 with 1 Axes>"
      ]
     },
     "metadata": {
      "needs_background": "light"
     },
     "output_type": "display_data"
    }
   ],
   "source": [
    "show_train_history(train_history, 'loss', 'val_loss') #畫出loss誤差執行結果"
   ]
  },
  {
   "cell_type": "code",
   "execution_count": null,
   "metadata": {},
   "outputs": [],
   "source": []
  }
 ],
 "metadata": {
  "kernelspec": {
   "display_name": "Python 3",
   "language": "python",
   "name": "python3"
  },
  "language_info": {
   "codemirror_mode": {
    "name": "ipython",
    "version": 3
   },
   "file_extension": ".py",
   "mimetype": "text/x-python",
   "name": "python",
   "nbconvert_exporter": "python",
   "pygments_lexer": "ipython3",
   "version": "3.7.6"
  }
 },
 "nbformat": 4,
 "nbformat_minor": 4
}
