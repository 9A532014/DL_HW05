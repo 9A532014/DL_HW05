{
 "cells": [
  {
   "cell_type": "markdown",
   "metadata": {},
   "source": [
    "# a.iris資集介紹"
   ]
  },
  {
   "cell_type": "markdown",
   "metadata": {},
   "source": [
    "## 匯入模組"
   ]
  },
  {
   "cell_type": "code",
   "execution_count": 1,
   "metadata": {},
   "outputs": [
    {
     "name": "stderr",
     "output_type": "stream",
     "text": [
      "Using TensorFlow backend.\n"
     ]
    },
    {
     "name": "stdout",
     "output_type": "stream",
     "text": [
      "['Iris.csv']\n"
     ]
    }
   ],
   "source": [
    "import numpy as np\n",
    "import pandas as pd\n",
    "import tensorflow as tf\n",
    "from keras.utils import np_utils\n",
    "np.random.seed(10)\n",
    "import matplotlib.pyplot as plt\n",
    "import os\n",
    "print(os.listdir('./input'))\n",
    "from sklearn import preprocessing\n",
    "from sklearn.preprocessing import LabelEncoder #labelEncoder\n",
    "from sklearn.preprocessing import OneHotEncoder #one-hot-code\n",
    "from sklearn.model_selection import train_test_split #將X與Y隨機切成訓練與測試"
   ]
  },
  {
   "cell_type": "markdown",
   "metadata": {},
   "source": [
    "## 讀取Iris.csv資料"
   ]
  },
  {
   "cell_type": "code",
   "execution_count": 2,
   "metadata": {},
   "outputs": [],
   "source": [
    "all_df = pd.read_csv('./input/Iris.csv')"
   ]
  },
  {
   "cell_type": "code",
   "execution_count": 3,
   "metadata": {},
   "outputs": [
    {
     "data": {
      "text/html": [
       "<div>\n",
       "<style scoped>\n",
       "    .dataframe tbody tr th:only-of-type {\n",
       "        vertical-align: middle;\n",
       "    }\n",
       "\n",
       "    .dataframe tbody tr th {\n",
       "        vertical-align: top;\n",
       "    }\n",
       "\n",
       "    .dataframe thead th {\n",
       "        text-align: right;\n",
       "    }\n",
       "</style>\n",
       "<table border=\"1\" class=\"dataframe\">\n",
       "  <thead>\n",
       "    <tr style=\"text-align: right;\">\n",
       "      <th></th>\n",
       "      <th>petal_length</th>\n",
       "      <th>petal_width</th>\n",
       "      <th>sepal_length</th>\n",
       "      <th>sepal_width</th>\n",
       "      <th>label</th>\n",
       "    </tr>\n",
       "  </thead>\n",
       "  <tbody>\n",
       "    <tr>\n",
       "      <th>0</th>\n",
       "      <td>5.1</td>\n",
       "      <td>3.5</td>\n",
       "      <td>1.4</td>\n",
       "      <td>0.2</td>\n",
       "      <td>Iris-setosa</td>\n",
       "    </tr>\n",
       "    <tr>\n",
       "      <th>1</th>\n",
       "      <td>4.9</td>\n",
       "      <td>3.0</td>\n",
       "      <td>1.4</td>\n",
       "      <td>0.2</td>\n",
       "      <td>Iris-setosa</td>\n",
       "    </tr>\n",
       "    <tr>\n",
       "      <th>2</th>\n",
       "      <td>4.7</td>\n",
       "      <td>3.2</td>\n",
       "      <td>1.3</td>\n",
       "      <td>0.2</td>\n",
       "      <td>Iris-setosa</td>\n",
       "    </tr>\n",
       "    <tr>\n",
       "      <th>3</th>\n",
       "      <td>4.6</td>\n",
       "      <td>3.1</td>\n",
       "      <td>1.5</td>\n",
       "      <td>0.2</td>\n",
       "      <td>Iris-setosa</td>\n",
       "    </tr>\n",
       "    <tr>\n",
       "      <th>4</th>\n",
       "      <td>5.0</td>\n",
       "      <td>3.6</td>\n",
       "      <td>1.4</td>\n",
       "      <td>0.2</td>\n",
       "      <td>Iris-setosa</td>\n",
       "    </tr>\n",
       "    <tr>\n",
       "      <th>...</th>\n",
       "      <td>...</td>\n",
       "      <td>...</td>\n",
       "      <td>...</td>\n",
       "      <td>...</td>\n",
       "      <td>...</td>\n",
       "    </tr>\n",
       "    <tr>\n",
       "      <th>145</th>\n",
       "      <td>6.7</td>\n",
       "      <td>3.0</td>\n",
       "      <td>5.2</td>\n",
       "      <td>2.3</td>\n",
       "      <td>Iris-virginica</td>\n",
       "    </tr>\n",
       "    <tr>\n",
       "      <th>146</th>\n",
       "      <td>6.3</td>\n",
       "      <td>2.5</td>\n",
       "      <td>5.0</td>\n",
       "      <td>1.9</td>\n",
       "      <td>Iris-virginica</td>\n",
       "    </tr>\n",
       "    <tr>\n",
       "      <th>147</th>\n",
       "      <td>6.5</td>\n",
       "      <td>3.0</td>\n",
       "      <td>5.2</td>\n",
       "      <td>2.0</td>\n",
       "      <td>Iris-virginica</td>\n",
       "    </tr>\n",
       "    <tr>\n",
       "      <th>148</th>\n",
       "      <td>6.2</td>\n",
       "      <td>3.4</td>\n",
       "      <td>5.4</td>\n",
       "      <td>2.3</td>\n",
       "      <td>Iris-virginica</td>\n",
       "    </tr>\n",
       "    <tr>\n",
       "      <th>149</th>\n",
       "      <td>5.9</td>\n",
       "      <td>3.0</td>\n",
       "      <td>5.1</td>\n",
       "      <td>1.8</td>\n",
       "      <td>Iris-virginica</td>\n",
       "    </tr>\n",
       "  </tbody>\n",
       "</table>\n",
       "<p>150 rows × 5 columns</p>\n",
       "</div>"
      ],
      "text/plain": [
       "     petal_length  petal_width  sepal_length  sepal_width           label\n",
       "0             5.1          3.5           1.4          0.2     Iris-setosa\n",
       "1             4.9          3.0           1.4          0.2     Iris-setosa\n",
       "2             4.7          3.2           1.3          0.2     Iris-setosa\n",
       "3             4.6          3.1           1.5          0.2     Iris-setosa\n",
       "4             5.0          3.6           1.4          0.2     Iris-setosa\n",
       "..            ...          ...           ...          ...             ...\n",
       "145           6.7          3.0           5.2          2.3  Iris-virginica\n",
       "146           6.3          2.5           5.0          1.9  Iris-virginica\n",
       "147           6.5          3.0           5.2          2.0  Iris-virginica\n",
       "148           6.2          3.4           5.4          2.3  Iris-virginica\n",
       "149           5.9          3.0           5.1          1.8  Iris-virginica\n",
       "\n",
       "[150 rows x 5 columns]"
      ]
     },
     "execution_count": 3,
     "metadata": {},
     "output_type": "execute_result"
    }
   ],
   "source": [
    "all_df"
   ]
  },
  {
   "cell_type": "markdown",
   "metadata": {},
   "source": [
    "## 選取欄位到dataframe"
   ]
  },
  {
   "cell_type": "code",
   "execution_count": 4,
   "metadata": {},
   "outputs": [],
   "source": [
    "cols=['petal_length','petal_width','sepal_length','sepal_width','label']\n",
    "all_df=all_df[cols]"
   ]
  },
  {
   "cell_type": "code",
   "execution_count": 5,
   "metadata": {},
   "outputs": [
    {
     "data": {
      "text/html": [
       "<div>\n",
       "<style scoped>\n",
       "    .dataframe tbody tr th:only-of-type {\n",
       "        vertical-align: middle;\n",
       "    }\n",
       "\n",
       "    .dataframe tbody tr th {\n",
       "        vertical-align: top;\n",
       "    }\n",
       "\n",
       "    .dataframe thead th {\n",
       "        text-align: right;\n",
       "    }\n",
       "</style>\n",
       "<table border=\"1\" class=\"dataframe\">\n",
       "  <thead>\n",
       "    <tr style=\"text-align: right;\">\n",
       "      <th></th>\n",
       "      <th>petal_length</th>\n",
       "      <th>petal_width</th>\n",
       "      <th>sepal_length</th>\n",
       "      <th>sepal_width</th>\n",
       "      <th>label</th>\n",
       "    </tr>\n",
       "  </thead>\n",
       "  <tbody>\n",
       "    <tr>\n",
       "      <th>0</th>\n",
       "      <td>5.1</td>\n",
       "      <td>3.5</td>\n",
       "      <td>1.4</td>\n",
       "      <td>0.2</td>\n",
       "      <td>Iris-setosa</td>\n",
       "    </tr>\n",
       "    <tr>\n",
       "      <th>1</th>\n",
       "      <td>4.9</td>\n",
       "      <td>3.0</td>\n",
       "      <td>1.4</td>\n",
       "      <td>0.2</td>\n",
       "      <td>Iris-setosa</td>\n",
       "    </tr>\n",
       "    <tr>\n",
       "      <th>2</th>\n",
       "      <td>4.7</td>\n",
       "      <td>3.2</td>\n",
       "      <td>1.3</td>\n",
       "      <td>0.2</td>\n",
       "      <td>Iris-setosa</td>\n",
       "    </tr>\n",
       "    <tr>\n",
       "      <th>3</th>\n",
       "      <td>4.6</td>\n",
       "      <td>3.1</td>\n",
       "      <td>1.5</td>\n",
       "      <td>0.2</td>\n",
       "      <td>Iris-setosa</td>\n",
       "    </tr>\n",
       "    <tr>\n",
       "      <th>4</th>\n",
       "      <td>5.0</td>\n",
       "      <td>3.6</td>\n",
       "      <td>1.4</td>\n",
       "      <td>0.2</td>\n",
       "      <td>Iris-setosa</td>\n",
       "    </tr>\n",
       "    <tr>\n",
       "      <th>...</th>\n",
       "      <td>...</td>\n",
       "      <td>...</td>\n",
       "      <td>...</td>\n",
       "      <td>...</td>\n",
       "      <td>...</td>\n",
       "    </tr>\n",
       "    <tr>\n",
       "      <th>145</th>\n",
       "      <td>6.7</td>\n",
       "      <td>3.0</td>\n",
       "      <td>5.2</td>\n",
       "      <td>2.3</td>\n",
       "      <td>Iris-virginica</td>\n",
       "    </tr>\n",
       "    <tr>\n",
       "      <th>146</th>\n",
       "      <td>6.3</td>\n",
       "      <td>2.5</td>\n",
       "      <td>5.0</td>\n",
       "      <td>1.9</td>\n",
       "      <td>Iris-virginica</td>\n",
       "    </tr>\n",
       "    <tr>\n",
       "      <th>147</th>\n",
       "      <td>6.5</td>\n",
       "      <td>3.0</td>\n",
       "      <td>5.2</td>\n",
       "      <td>2.0</td>\n",
       "      <td>Iris-virginica</td>\n",
       "    </tr>\n",
       "    <tr>\n",
       "      <th>148</th>\n",
       "      <td>6.2</td>\n",
       "      <td>3.4</td>\n",
       "      <td>5.4</td>\n",
       "      <td>2.3</td>\n",
       "      <td>Iris-virginica</td>\n",
       "    </tr>\n",
       "    <tr>\n",
       "      <th>149</th>\n",
       "      <td>5.9</td>\n",
       "      <td>3.0</td>\n",
       "      <td>5.1</td>\n",
       "      <td>1.8</td>\n",
       "      <td>Iris-virginica</td>\n",
       "    </tr>\n",
       "  </tbody>\n",
       "</table>\n",
       "<p>150 rows × 5 columns</p>\n",
       "</div>"
      ],
      "text/plain": [
       "     petal_length  petal_width  sepal_length  sepal_width           label\n",
       "0             5.1          3.5           1.4          0.2     Iris-setosa\n",
       "1             4.9          3.0           1.4          0.2     Iris-setosa\n",
       "2             4.7          3.2           1.3          0.2     Iris-setosa\n",
       "3             4.6          3.1           1.5          0.2     Iris-setosa\n",
       "4             5.0          3.6           1.4          0.2     Iris-setosa\n",
       "..            ...          ...           ...          ...             ...\n",
       "145           6.7          3.0           5.2          2.3  Iris-virginica\n",
       "146           6.3          2.5           5.0          1.9  Iris-virginica\n",
       "147           6.5          3.0           5.2          2.0  Iris-virginica\n",
       "148           6.2          3.4           5.4          2.3  Iris-virginica\n",
       "149           5.9          3.0           5.1          1.8  Iris-virginica\n",
       "\n",
       "[150 rows x 5 columns]"
      ]
     },
     "execution_count": 5,
     "metadata": {},
     "output_type": "execute_result"
    }
   ],
   "source": [
    "all_df"
   ]
  },
  {
   "cell_type": "code",
   "execution_count": 6,
   "metadata": {},
   "outputs": [],
   "source": [
    "#df.describe()"
   ]
  },
  {
   "cell_type": "markdown",
   "metadata": {},
   "source": [
    "# b.資料預處理"
   ]
  },
  {
   "cell_type": "code",
   "execution_count": 7,
   "metadata": {},
   "outputs": [],
   "source": [
    "all_df['label']=all_df['label'].map({'Iris-setosa':0, 'Iris-versicolor':1, 'Iris-virginica':2}).astype(int) #先將label轉成int"
   ]
  },
  {
   "cell_type": "code",
   "execution_count": 8,
   "metadata": {},
   "outputs": [
    {
     "data": {
      "text/html": [
       "<div>\n",
       "<style scoped>\n",
       "    .dataframe tbody tr th:only-of-type {\n",
       "        vertical-align: middle;\n",
       "    }\n",
       "\n",
       "    .dataframe tbody tr th {\n",
       "        vertical-align: top;\n",
       "    }\n",
       "\n",
       "    .dataframe thead th {\n",
       "        text-align: right;\n",
       "    }\n",
       "</style>\n",
       "<table border=\"1\" class=\"dataframe\">\n",
       "  <thead>\n",
       "    <tr style=\"text-align: right;\">\n",
       "      <th></th>\n",
       "      <th>petal_length</th>\n",
       "      <th>petal_width</th>\n",
       "      <th>sepal_length</th>\n",
       "      <th>sepal_width</th>\n",
       "      <th>label</th>\n",
       "    </tr>\n",
       "  </thead>\n",
       "  <tbody>\n",
       "    <tr>\n",
       "      <th>0</th>\n",
       "      <td>5.1</td>\n",
       "      <td>3.5</td>\n",
       "      <td>1.4</td>\n",
       "      <td>0.2</td>\n",
       "      <td>0</td>\n",
       "    </tr>\n",
       "    <tr>\n",
       "      <th>1</th>\n",
       "      <td>4.9</td>\n",
       "      <td>3.0</td>\n",
       "      <td>1.4</td>\n",
       "      <td>0.2</td>\n",
       "      <td>0</td>\n",
       "    </tr>\n",
       "    <tr>\n",
       "      <th>2</th>\n",
       "      <td>4.7</td>\n",
       "      <td>3.2</td>\n",
       "      <td>1.3</td>\n",
       "      <td>0.2</td>\n",
       "      <td>0</td>\n",
       "    </tr>\n",
       "    <tr>\n",
       "      <th>3</th>\n",
       "      <td>4.6</td>\n",
       "      <td>3.1</td>\n",
       "      <td>1.5</td>\n",
       "      <td>0.2</td>\n",
       "      <td>0</td>\n",
       "    </tr>\n",
       "    <tr>\n",
       "      <th>4</th>\n",
       "      <td>5.0</td>\n",
       "      <td>3.6</td>\n",
       "      <td>1.4</td>\n",
       "      <td>0.2</td>\n",
       "      <td>0</td>\n",
       "    </tr>\n",
       "    <tr>\n",
       "      <th>...</th>\n",
       "      <td>...</td>\n",
       "      <td>...</td>\n",
       "      <td>...</td>\n",
       "      <td>...</td>\n",
       "      <td>...</td>\n",
       "    </tr>\n",
       "    <tr>\n",
       "      <th>145</th>\n",
       "      <td>6.7</td>\n",
       "      <td>3.0</td>\n",
       "      <td>5.2</td>\n",
       "      <td>2.3</td>\n",
       "      <td>2</td>\n",
       "    </tr>\n",
       "    <tr>\n",
       "      <th>146</th>\n",
       "      <td>6.3</td>\n",
       "      <td>2.5</td>\n",
       "      <td>5.0</td>\n",
       "      <td>1.9</td>\n",
       "      <td>2</td>\n",
       "    </tr>\n",
       "    <tr>\n",
       "      <th>147</th>\n",
       "      <td>6.5</td>\n",
       "      <td>3.0</td>\n",
       "      <td>5.2</td>\n",
       "      <td>2.0</td>\n",
       "      <td>2</td>\n",
       "    </tr>\n",
       "    <tr>\n",
       "      <th>148</th>\n",
       "      <td>6.2</td>\n",
       "      <td>3.4</td>\n",
       "      <td>5.4</td>\n",
       "      <td>2.3</td>\n",
       "      <td>2</td>\n",
       "    </tr>\n",
       "    <tr>\n",
       "      <th>149</th>\n",
       "      <td>5.9</td>\n",
       "      <td>3.0</td>\n",
       "      <td>5.1</td>\n",
       "      <td>1.8</td>\n",
       "      <td>2</td>\n",
       "    </tr>\n",
       "  </tbody>\n",
       "</table>\n",
       "<p>150 rows × 5 columns</p>\n",
       "</div>"
      ],
      "text/plain": [
       "     petal_length  petal_width  sepal_length  sepal_width  label\n",
       "0             5.1          3.5           1.4          0.2      0\n",
       "1             4.9          3.0           1.4          0.2      0\n",
       "2             4.7          3.2           1.3          0.2      0\n",
       "3             4.6          3.1           1.5          0.2      0\n",
       "4             5.0          3.6           1.4          0.2      0\n",
       "..            ...          ...           ...          ...    ...\n",
       "145           6.7          3.0           5.2          2.3      2\n",
       "146           6.3          2.5           5.0          1.9      2\n",
       "147           6.5          3.0           5.2          2.0      2\n",
       "148           6.2          3.4           5.4          2.3      2\n",
       "149           5.9          3.0           5.1          1.8      2\n",
       "\n",
       "[150 rows x 5 columns]"
      ]
     },
     "execution_count": 8,
     "metadata": {},
     "output_type": "execute_result"
    }
   ],
   "source": [
    "df=all_df\n",
    "df"
   ]
  },
  {
   "cell_type": "code",
   "execution_count": 9,
   "metadata": {},
   "outputs": [],
   "source": [
    "Label = df.values[:,4]    #類別\n",
    "Features = df.values[:,:4] #前4筆是特徵"
   ]
  },
  {
   "cell_type": "code",
   "execution_count": 10,
   "metadata": {},
   "outputs": [],
   "source": [
    "x_train, x_test, y_train, y_test = train_test_split(Features, Label, test_size=0.3) #分割資料"
   ]
  },
  {
   "cell_type": "code",
   "execution_count": 11,
   "metadata": {},
   "outputs": [
    {
     "name": "stdout",
     "output_type": "stream",
     "text": [
      "WARNING:tensorflow:\n",
      "The TensorFlow contrib module will not be included in TensorFlow 2.0.\n",
      "For more information, please see:\n",
      "  * https://github.com/tensorflow/community/blob/master/rfcs/20180907-contrib-sunset.md\n",
      "  * https://github.com/tensorflow/addons\n",
      "  * https://github.com/tensorflow/io (for I/O related ops)\n",
      "If you depend on functionality not listed there, please file an issue.\n",
      "\n"
     ]
    }
   ],
   "source": [
    "y_train_onehot=tf.contrib.keras.utils.to_categorical(y_train) #將y訓練資料轉成one-hot-code"
   ]
  },
  {
   "cell_type": "code",
   "execution_count": 12,
   "metadata": {},
   "outputs": [],
   "source": [
    "y_test_onehot=tf.contrib.keras.utils.to_categorical(y_test) #將y測試資料轉成one-hot-code"
   ]
  },
  {
   "cell_type": "code",
   "execution_count": 13,
   "metadata": {},
   "outputs": [
    {
     "name": "stdout",
     "output_type": "stream",
     "text": [
      "total: 150 train: 105 test: 45\n"
     ]
    }
   ],
   "source": [
    "print('total:', len(df),\n",
    "      'train:', len(x_train),\n",
    "      'test:', len(x_test))"
   ]
  },
  {
   "cell_type": "markdown",
   "metadata": {},
   "source": [
    "## 將label轉成one-hot-code"
   ]
  },
  {
   "cell_type": "markdown",
   "metadata": {},
   "source": [
    "data_onehot = pd.get_dummies(df,columns=['label'])\n",
    "pd.DataFrame(data_onehot)"
   ]
  },
  {
   "cell_type": "markdown",
   "metadata": {},
   "source": [
    "## 將dataframe轉換成array"
   ]
  },
  {
   "cell_type": "markdown",
   "metadata": {},
   "source": [
    "ndarray = data_onehot.values #dataframe轉成array"
   ]
  },
  {
   "cell_type": "markdown",
   "metadata": {},
   "source": [
    "ndarray.shape #查看ndarray的shape"
   ]
  },
  {
   "cell_type": "markdown",
   "metadata": {},
   "source": [
    "ndarray #查看ndarray資料"
   ]
  },
  {
   "cell_type": "markdown",
   "metadata": {},
   "source": [
    "## 將ndarray特徵欄位進行標準化"
   ]
  },
  {
   "cell_type": "markdown",
   "metadata": {},
   "source": [
    "minmax_scale = preprocessing.MinMaxScaler(feature_range=(0, 1)) #建立MinMaxScaler標準化刻度minmax_scale"
   ]
  },
  {
   "cell_type": "markdown",
   "metadata": {},
   "source": [
    "scaledFeatures = minmax_scale.fit_transform(Features) #使用minmax_scale.fit_tranform進行標準化"
   ]
  },
  {
   "cell_type": "markdown",
   "metadata": {},
   "source": [
    "scaledFeatures[:2] #查看標準化後的特徵欄位前2筆"
   ]
  },
  {
   "cell_type": "markdown",
   "metadata": {},
   "source": [
    "## 建立PreprocessData函數進行資料之預處理"
   ]
  },
  {
   "cell_type": "markdown",
   "metadata": {},
   "source": [
    "def PreprocessData(raw_df):\n",
    "    data_onehot = pd.get_dummies(df)\n",
    "    \n",
    "    ndarray = data_onehot.values\n",
    "    Label = df.values[:,4]    \n",
    "    Features = df.values[:,:4]\n",
    "    \n",
    "    minmax_scale = preprocessing.MinMaxScaler(feature_range=(0, 1))\n",
    "    scaledFeatures = minmax_scale.fit_transform(Features)\n",
    "    \n",
    "    return scaledFeatures, Label"
   ]
  },
  {
   "cell_type": "markdown",
   "metadata": {},
   "source": [
    "train_Features,train_Label = PreprocessData(train_df) #將訓練資料與測試資料做預處理\n",
    "test_Features, test_Label = PreprocessData(test_df)"
   ]
  },
  {
   "cell_type": "markdown",
   "metadata": {
    "scrolled": false
   },
   "source": [
    "train_Features[:2] #查看資料預處理後，訓練資料特徵欄位"
   ]
  },
  {
   "cell_type": "markdown",
   "metadata": {},
   "source": [
    "test_Features[:2] #查看資料預處理後，訓練資料標籤欄位"
   ]
  },
  {
   "cell_type": "markdown",
   "metadata": {},
   "source": [
    "# c.建立模型"
   ]
  },
  {
   "cell_type": "markdown",
   "metadata": {},
   "source": [
    "## 匯入模組"
   ]
  },
  {
   "cell_type": "code",
   "execution_count": 20,
   "metadata": {},
   "outputs": [],
   "source": [
    "from keras.models import Sequential\n",
    "from keras.layers import Dense,Dropout"
   ]
  },
  {
   "cell_type": "code",
   "execution_count": 21,
   "metadata": {},
   "outputs": [
    {
     "name": "stdout",
     "output_type": "stream",
     "text": [
      "WARNING:tensorflow:From C:\\Users\\Admin2\\Anaconda3\\envs\\tf1\\lib\\site-packages\\keras\\backend\\tensorflow_backend.py:74: The name tf.get_default_graph is deprecated. Please use tf.compat.v1.get_default_graph instead.\n",
      "\n"
     ]
    }
   ],
   "source": [
    "model = Sequential() #建立keras Sequential模型"
   ]
  },
  {
   "cell_type": "code",
   "execution_count": 22,
   "metadata": {},
   "outputs": [
    {
     "name": "stdout",
     "output_type": "stream",
     "text": [
      "WARNING:tensorflow:From C:\\Users\\Admin2\\Anaconda3\\envs\\tf1\\lib\\site-packages\\keras\\backend\\tensorflow_backend.py:517: The name tf.placeholder is deprecated. Please use tf.compat.v1.placeholder instead.\n",
      "\n",
      "WARNING:tensorflow:From C:\\Users\\Admin2\\Anaconda3\\envs\\tf1\\lib\\site-packages\\keras\\backend\\tensorflow_backend.py:4138: The name tf.random_uniform is deprecated. Please use tf.random.uniform instead.\n",
      "\n"
     ]
    }
   ],
   "source": [
    "model.add(Dense(units=10, input_dim=4,        #建立輸入層與隱藏層1\n",
    "                kernel_initializer='uniform',\n",
    "                activation='relu'))"
   ]
  },
  {
   "cell_type": "code",
   "execution_count": 23,
   "metadata": {},
   "outputs": [],
   "source": [
    "model.add(Dense(units=10,                     #建立隱藏層2\n",
    "                kernel_initializer='uniform',\n",
    "                activation='relu'))"
   ]
  },
  {
   "cell_type": "code",
   "execution_count": 24,
   "metadata": {},
   "outputs": [],
   "source": [
    "model.add(Dense(units=3,                      #建立輸出層\n",
    "                kernel_initializer='uniform',\n",
    "                activation='softmax'))"
   ]
  },
  {
   "cell_type": "code",
   "execution_count": 25,
   "metadata": {},
   "outputs": [
    {
     "name": "stdout",
     "output_type": "stream",
     "text": [
      "_________________________________________________________________\n",
      "Layer (type)                 Output Shape              Param #   \n",
      "=================================================================\n",
      "dense_1 (Dense)              (None, 10)                50        \n",
      "_________________________________________________________________\n",
      "dense_2 (Dense)              (None, 10)                110       \n",
      "_________________________________________________________________\n",
      "dense_3 (Dense)              (None, 3)                 33        \n",
      "=================================================================\n",
      "Total params: 193\n",
      "Trainable params: 193\n",
      "Non-trainable params: 0\n",
      "_________________________________________________________________\n",
      "None\n"
     ]
    }
   ],
   "source": [
    "print(model.summary())"
   ]
  },
  {
   "cell_type": "markdown",
   "metadata": {},
   "source": [
    "# d.訓練模型"
   ]
  },
  {
   "cell_type": "code",
   "execution_count": 26,
   "metadata": {},
   "outputs": [
    {
     "name": "stdout",
     "output_type": "stream",
     "text": [
      "WARNING:tensorflow:From C:\\Users\\Admin2\\Anaconda3\\envs\\tf1\\lib\\site-packages\\keras\\optimizers.py:790: The name tf.train.Optimizer is deprecated. Please use tf.compat.v1.train.Optimizer instead.\n",
      "\n",
      "WARNING:tensorflow:From C:\\Users\\Admin2\\Anaconda3\\envs\\tf1\\lib\\site-packages\\keras\\backend\\tensorflow_backend.py:3376: The name tf.log is deprecated. Please use tf.math.log instead.\n",
      "\n",
      "WARNING:tensorflow:From C:\\Users\\Admin2\\Anaconda3\\envs\\tf1\\lib\\site-packages\\tensorflow_core\\python\\ops\\nn_impl.py:183: where (from tensorflow.python.ops.array_ops) is deprecated and will be removed in a future version.\n",
      "Instructions for updating:\n",
      "Use tf.where in 2.0, which has the same broadcast rule as np.where\n"
     ]
    }
   ],
   "source": [
    "model.compile(loss='binary_crossentropy',              #定義訓練方式\n",
    "              optimizer='adam', metrics=['accuracy'])"
   ]
  },
  {
   "cell_type": "code",
   "execution_count": 27,
   "metadata": {},
   "outputs": [
    {
     "name": "stdout",
     "output_type": "stream",
     "text": [
      "WARNING:tensorflow:From C:\\Users\\Admin2\\Anaconda3\\envs\\tf1\\lib\\site-packages\\keras\\backend\\tensorflow_backend.py:986: The name tf.assign_add is deprecated. Please use tf.compat.v1.assign_add instead.\n",
      "\n",
      "WARNING:tensorflow:From C:\\Users\\Admin2\\Anaconda3\\envs\\tf1\\lib\\site-packages\\keras\\backend\\tensorflow_backend.py:973: The name tf.assign is deprecated. Please use tf.compat.v1.assign instead.\n",
      "\n",
      "WARNING:tensorflow:From C:\\Users\\Admin2\\Anaconda3\\envs\\tf1\\lib\\site-packages\\keras\\backend\\tensorflow_backend.py:2741: The name tf.Session is deprecated. Please use tf.compat.v1.Session instead.\n",
      "\n",
      "Train on 94 samples, validate on 11 samples\n",
      "Epoch 1/120\n",
      "WARNING:tensorflow:From C:\\Users\\Admin2\\Anaconda3\\envs\\tf1\\lib\\site-packages\\keras\\backend\\tensorflow_backend.py:174: The name tf.get_default_session is deprecated. Please use tf.compat.v1.get_default_session instead.\n",
      "\n",
      "WARNING:tensorflow:From C:\\Users\\Admin2\\Anaconda3\\envs\\tf1\\lib\\site-packages\\keras\\backend\\tensorflow_backend.py:181: The name tf.ConfigProto is deprecated. Please use tf.compat.v1.ConfigProto instead.\n",
      "\n",
      "WARNING:tensorflow:From C:\\Users\\Admin2\\Anaconda3\\envs\\tf1\\lib\\site-packages\\keras\\backend\\tensorflow_backend.py:190: The name tf.global_variables is deprecated. Please use tf.compat.v1.global_variables instead.\n",
      "\n",
      "WARNING:tensorflow:From C:\\Users\\Admin2\\Anaconda3\\envs\\tf1\\lib\\site-packages\\keras\\backend\\tensorflow_backend.py:199: The name tf.is_variable_initialized is deprecated. Please use tf.compat.v1.is_variable_initialized instead.\n",
      "\n",
      "WARNING:tensorflow:From C:\\Users\\Admin2\\Anaconda3\\envs\\tf1\\lib\\site-packages\\keras\\backend\\tensorflow_backend.py:206: The name tf.variables_initializer is deprecated. Please use tf.compat.v1.variables_initializer instead.\n",
      "\n",
      " - 0s - loss: 0.6366 - acc: 0.6667 - val_loss: 0.6365 - val_acc: 0.6667\n",
      "Epoch 2/120\n",
      " - 0s - loss: 0.6365 - acc: 0.6667 - val_loss: 0.6364 - val_acc: 0.6667\n",
      "Epoch 3/120\n",
      " - 0s - loss: 0.6365 - acc: 0.6667 - val_loss: 0.6364 - val_acc: 0.6667\n",
      "Epoch 4/120\n",
      " - 0s - loss: 0.6364 - acc: 0.6667 - val_loss: 0.6364 - val_acc: 0.6667\n",
      "Epoch 5/120\n",
      " - 0s - loss: 0.6364 - acc: 0.6667 - val_loss: 0.6364 - val_acc: 0.6667\n",
      "Epoch 6/120\n",
      " - 0s - loss: 0.6364 - acc: 0.6667 - val_loss: 0.6363 - val_acc: 0.6667\n",
      "Epoch 7/120\n",
      " - 0s - loss: 0.6363 - acc: 0.6667 - val_loss: 0.6363 - val_acc: 0.6667\n",
      "Epoch 8/120\n",
      " - 0s - loss: 0.6362 - acc: 0.6667 - val_loss: 0.6361 - val_acc: 0.6667\n",
      "Epoch 9/120\n",
      " - 0s - loss: 0.6361 - acc: 0.6667 - val_loss: 0.6360 - val_acc: 0.6667\n",
      "Epoch 10/120\n",
      " - 0s - loss: 0.6360 - acc: 0.6667 - val_loss: 0.6357 - val_acc: 0.6667\n",
      "Epoch 11/120\n",
      " - 0s - loss: 0.6358 - acc: 0.6667 - val_loss: 0.6354 - val_acc: 0.6667\n",
      "Epoch 12/120\n",
      " - 0s - loss: 0.6356 - acc: 0.6667 - val_loss: 0.6350 - val_acc: 0.6667\n",
      "Epoch 13/120\n",
      " - 0s - loss: 0.6352 - acc: 0.6667 - val_loss: 0.6345 - val_acc: 0.6667\n",
      "Epoch 14/120\n",
      " - 0s - loss: 0.6349 - acc: 0.6667 - val_loss: 0.6340 - val_acc: 0.6667\n",
      "Epoch 15/120\n",
      " - 0s - loss: 0.6344 - acc: 0.6667 - val_loss: 0.6334 - val_acc: 0.6667\n",
      "Epoch 16/120\n",
      " - 0s - loss: 0.6339 - acc: 0.6667 - val_loss: 0.6328 - val_acc: 0.6667\n",
      "Epoch 17/120\n",
      " - 0s - loss: 0.6333 - acc: 0.6667 - val_loss: 0.6320 - val_acc: 0.6667\n",
      "Epoch 18/120\n",
      " - 0s - loss: 0.6325 - acc: 0.6667 - val_loss: 0.6310 - val_acc: 0.6667\n",
      "Epoch 19/120\n",
      " - 0s - loss: 0.6316 - acc: 0.6667 - val_loss: 0.6300 - val_acc: 0.6667\n",
      "Epoch 20/120\n",
      " - 0s - loss: 0.6306 - acc: 0.6667 - val_loss: 0.6290 - val_acc: 0.6667\n",
      "Epoch 21/120\n",
      " - 0s - loss: 0.6294 - acc: 0.6667 - val_loss: 0.6276 - val_acc: 0.6667\n",
      "Epoch 22/120\n",
      " - 0s - loss: 0.6282 - acc: 0.6667 - val_loss: 0.6263 - val_acc: 0.6667\n",
      "Epoch 23/120\n",
      " - 0s - loss: 0.6267 - acc: 0.6667 - val_loss: 0.6247 - val_acc: 0.6667\n",
      "Epoch 24/120\n",
      " - 0s - loss: 0.6251 - acc: 0.6667 - val_loss: 0.6230 - val_acc: 0.6667\n",
      "Epoch 25/120\n",
      " - 0s - loss: 0.6233 - acc: 0.6667 - val_loss: 0.6211 - val_acc: 0.6667\n",
      "Epoch 26/120\n",
      " - 0s - loss: 0.6212 - acc: 0.6667 - val_loss: 0.6186 - val_acc: 0.6667\n",
      "Epoch 27/120\n",
      " - 0s - loss: 0.6189 - acc: 0.6667 - val_loss: 0.6159 - val_acc: 0.6667\n",
      "Epoch 28/120\n",
      " - 0s - loss: 0.6162 - acc: 0.6667 - val_loss: 0.6129 - val_acc: 0.6667\n",
      "Epoch 29/120\n",
      " - 0s - loss: 0.6132 - acc: 0.6667 - val_loss: 0.6096 - val_acc: 0.6667\n",
      "Epoch 30/120\n",
      " - 0s - loss: 0.6100 - acc: 0.6667 - val_loss: 0.6060 - val_acc: 0.6667\n",
      "Epoch 31/120\n",
      " - 0s - loss: 0.6068 - acc: 0.6667 - val_loss: 0.6024 - val_acc: 0.6667\n",
      "Epoch 32/120\n",
      " - 0s - loss: 0.6031 - acc: 0.6667 - val_loss: 0.5977 - val_acc: 0.6667\n",
      "Epoch 33/120\n",
      " - 0s - loss: 0.5992 - acc: 0.6667 - val_loss: 0.5926 - val_acc: 0.6667\n",
      "Epoch 34/120\n",
      " - 0s - loss: 0.5949 - acc: 0.6667 - val_loss: 0.5875 - val_acc: 0.6667\n",
      "Epoch 35/120\n",
      " - 0s - loss: 0.5906 - acc: 0.6667 - val_loss: 0.5822 - val_acc: 0.6667\n",
      "Epoch 36/120\n",
      " - 0s - loss: 0.5862 - acc: 0.6667 - val_loss: 0.5767 - val_acc: 0.6667\n",
      "Epoch 37/120\n",
      " - 0s - loss: 0.5814 - acc: 0.6667 - val_loss: 0.5709 - val_acc: 0.6667\n",
      "Epoch 38/120\n",
      " - 0s - loss: 0.5763 - acc: 0.6667 - val_loss: 0.5649 - val_acc: 0.6667\n",
      "Epoch 39/120\n",
      " - 0s - loss: 0.5711 - acc: 0.6667 - val_loss: 0.5591 - val_acc: 0.6667\n",
      "Epoch 40/120\n",
      " - 0s - loss: 0.5664 - acc: 0.6667 - val_loss: 0.5530 - val_acc: 0.6667\n",
      "Epoch 41/120\n",
      " - 0s - loss: 0.5616 - acc: 0.6809 - val_loss: 0.5463 - val_acc: 0.6667\n",
      "Epoch 42/120\n",
      " - 0s - loss: 0.5561 - acc: 0.6986 - val_loss: 0.5391 - val_acc: 0.6970\n",
      "Epoch 43/120\n",
      " - 0s - loss: 0.5505 - acc: 0.7163 - val_loss: 0.5315 - val_acc: 0.7273\n",
      "Epoch 44/120\n",
      " - 0s - loss: 0.5447 - acc: 0.7447 - val_loss: 0.5238 - val_acc: 0.7576\n",
      "Epoch 45/120\n",
      " - 0s - loss: 0.5389 - acc: 0.7553 - val_loss: 0.5160 - val_acc: 0.7879\n",
      "Epoch 46/120\n",
      " - 0s - loss: 0.5330 - acc: 0.7589 - val_loss: 0.5082 - val_acc: 0.7879\n",
      "Epoch 47/120\n",
      " - 0s - loss: 0.5269 - acc: 0.7660 - val_loss: 0.5004 - val_acc: 0.7879\n",
      "Epoch 48/120\n",
      " - 0s - loss: 0.5208 - acc: 0.7660 - val_loss: 0.4926 - val_acc: 0.7879\n",
      "Epoch 49/120\n",
      " - 0s - loss: 0.5145 - acc: 0.7589 - val_loss: 0.4844 - val_acc: 0.7879\n",
      "Epoch 50/120\n",
      " - 0s - loss: 0.5079 - acc: 0.7589 - val_loss: 0.4754 - val_acc: 0.7879\n",
      "Epoch 51/120\n",
      " - 0s - loss: 0.5013 - acc: 0.7553 - val_loss: 0.4659 - val_acc: 0.7576\n",
      "Epoch 52/120\n",
      " - 0s - loss: 0.4945 - acc: 0.7447 - val_loss: 0.4564 - val_acc: 0.7576\n",
      "Epoch 53/120\n",
      " - 0s - loss: 0.4870 - acc: 0.7447 - val_loss: 0.4473 - val_acc: 0.7879\n",
      "Epoch 54/120\n",
      " - 0s - loss: 0.4801 - acc: 0.7730 - val_loss: 0.4376 - val_acc: 0.8788\n",
      "Epoch 55/120\n",
      " - 0s - loss: 0.4728 - acc: 0.8262 - val_loss: 0.4277 - val_acc: 0.9091\n",
      "Epoch 56/120\n",
      " - 0s - loss: 0.4656 - acc: 0.8440 - val_loss: 0.4182 - val_acc: 0.9091\n",
      "Epoch 57/120\n",
      " - 0s - loss: 0.4582 - acc: 0.8511 - val_loss: 0.4082 - val_acc: 0.9091\n",
      "Epoch 58/120\n",
      " - 0s - loss: 0.4506 - acc: 0.8475 - val_loss: 0.3979 - val_acc: 0.9091\n",
      "Epoch 59/120\n",
      " - 0s - loss: 0.4432 - acc: 0.8404 - val_loss: 0.3879 - val_acc: 0.9091\n",
      "Epoch 60/120\n",
      " - 0s - loss: 0.4362 - acc: 0.8333 - val_loss: 0.3786 - val_acc: 0.9091\n",
      "Epoch 61/120\n",
      " - 0s - loss: 0.4296 - acc: 0.8333 - val_loss: 0.3699 - val_acc: 0.9091\n",
      "Epoch 62/120\n",
      " - 0s - loss: 0.4228 - acc: 0.8262 - val_loss: 0.3622 - val_acc: 0.9091\n",
      "Epoch 63/120\n",
      " - 0s - loss: 0.4169 - acc: 0.8227 - val_loss: 0.3541 - val_acc: 0.9091\n",
      "Epoch 64/120\n",
      " - 0s - loss: 0.4105 - acc: 0.8227 - val_loss: 0.3471 - val_acc: 0.9091\n",
      "Epoch 65/120\n",
      " - 0s - loss: 0.4047 - acc: 0.8227 - val_loss: 0.3398 - val_acc: 0.9091\n",
      "Epoch 66/120\n",
      " - 0s - loss: 0.3988 - acc: 0.8156 - val_loss: 0.3317 - val_acc: 0.9091\n",
      "Epoch 67/120\n",
      " - 0s - loss: 0.3934 - acc: 0.8156 - val_loss: 0.3246 - val_acc: 0.9091\n",
      "Epoch 68/120\n",
      " - 0s - loss: 0.3880 - acc: 0.8121 - val_loss: 0.3187 - val_acc: 0.9091\n",
      "Epoch 69/120\n",
      " - 0s - loss: 0.3828 - acc: 0.8156 - val_loss: 0.3131 - val_acc: 0.9091\n",
      "Epoch 70/120\n",
      " - 0s - loss: 0.3779 - acc: 0.8156 - val_loss: 0.3078 - val_acc: 0.9091\n",
      "Epoch 71/120\n",
      " - 0s - loss: 0.3730 - acc: 0.8156 - val_loss: 0.3027 - val_acc: 0.9091\n",
      "Epoch 72/120\n",
      " - 0s - loss: 0.3684 - acc: 0.8156 - val_loss: 0.2979 - val_acc: 0.9091\n",
      "Epoch 73/120\n",
      " - 0s - loss: 0.3638 - acc: 0.8156 - val_loss: 0.2930 - val_acc: 0.9091\n",
      "Epoch 74/120\n",
      " - 0s - loss: 0.3596 - acc: 0.8156 - val_loss: 0.2886 - val_acc: 0.9091\n",
      "Epoch 75/120\n",
      " - 0s - loss: 0.3553 - acc: 0.8156 - val_loss: 0.2841 - val_acc: 0.9091\n",
      "Epoch 76/120\n",
      " - 0s - loss: 0.3512 - acc: 0.8156 - val_loss: 0.2797 - val_acc: 0.9091\n",
      "Epoch 77/120\n",
      " - 0s - loss: 0.3473 - acc: 0.8156 - val_loss: 0.2760 - val_acc: 0.9091\n"
     ]
    },
    {
     "name": "stdout",
     "output_type": "stream",
     "text": [
      "Epoch 78/120\n",
      " - 0s - loss: 0.3437 - acc: 0.8156 - val_loss: 0.2722 - val_acc: 0.9091\n",
      "Epoch 79/120\n",
      " - 0s - loss: 0.3395 - acc: 0.8191 - val_loss: 0.2702 - val_acc: 0.9091\n",
      "Epoch 80/120\n",
      " - 0s - loss: 0.3363 - acc: 0.8333 - val_loss: 0.2685 - val_acc: 0.9091\n",
      "Epoch 81/120\n",
      " - 0s - loss: 0.3331 - acc: 0.8440 - val_loss: 0.2667 - val_acc: 0.9091\n",
      "Epoch 82/120\n",
      " - 0s - loss: 0.3297 - acc: 0.8475 - val_loss: 0.2634 - val_acc: 0.9091\n",
      "Epoch 83/120\n",
      " - 0s - loss: 0.3263 - acc: 0.8475 - val_loss: 0.2599 - val_acc: 0.9091\n",
      "Epoch 84/120\n",
      " - 0s - loss: 0.3229 - acc: 0.8440 - val_loss: 0.2562 - val_acc: 0.9091\n",
      "Epoch 85/120\n",
      " - 0s - loss: 0.3198 - acc: 0.8369 - val_loss: 0.2528 - val_acc: 0.9091\n",
      "Epoch 86/120\n",
      " - 0s - loss: 0.3168 - acc: 0.8369 - val_loss: 0.2504 - val_acc: 0.9091\n",
      "Epoch 87/120\n",
      " - 0s - loss: 0.3139 - acc: 0.8369 - val_loss: 0.2474 - val_acc: 0.9091\n",
      "Epoch 88/120\n",
      " - 0s - loss: 0.3111 - acc: 0.8369 - val_loss: 0.2443 - val_acc: 0.9091\n",
      "Epoch 89/120\n",
      " - 0s - loss: 0.3081 - acc: 0.8369 - val_loss: 0.2423 - val_acc: 0.9091\n",
      "Epoch 90/120\n",
      " - 0s - loss: 0.3054 - acc: 0.8511 - val_loss: 0.2398 - val_acc: 0.9091\n",
      "Epoch 91/120\n",
      " - 0s - loss: 0.3025 - acc: 0.8475 - val_loss: 0.2361 - val_acc: 0.9091\n",
      "Epoch 92/120\n",
      " - 0s - loss: 0.2998 - acc: 0.8404 - val_loss: 0.2323 - val_acc: 0.9091\n",
      "Epoch 93/120\n",
      " - 0s - loss: 0.2976 - acc: 0.8369 - val_loss: 0.2289 - val_acc: 0.9091\n",
      "Epoch 94/120\n",
      " - 0s - loss: 0.2952 - acc: 0.8333 - val_loss: 0.2267 - val_acc: 0.9091\n",
      "Epoch 95/120\n",
      " - 0s - loss: 0.2925 - acc: 0.8404 - val_loss: 0.2258 - val_acc: 0.9091\n",
      "Epoch 96/120\n",
      " - 0s - loss: 0.2898 - acc: 0.8475 - val_loss: 0.2242 - val_acc: 0.9091\n",
      "Epoch 97/120\n",
      " - 0s - loss: 0.2873 - acc: 0.8546 - val_loss: 0.2216 - val_acc: 0.9091\n",
      "Epoch 98/120\n",
      " - 0s - loss: 0.2848 - acc: 0.8511 - val_loss: 0.2188 - val_acc: 0.9091\n",
      "Epoch 99/120\n",
      " - 0s - loss: 0.2826 - acc: 0.8475 - val_loss: 0.2158 - val_acc: 0.9091\n",
      "Epoch 100/120\n",
      " - 0s - loss: 0.2802 - acc: 0.8440 - val_loss: 0.2136 - val_acc: 0.9091\n",
      "Epoch 101/120\n",
      " - 0s - loss: 0.2778 - acc: 0.8475 - val_loss: 0.2123 - val_acc: 0.9091\n",
      "Epoch 102/120\n",
      " - 0s - loss: 0.2754 - acc: 0.8546 - val_loss: 0.2120 - val_acc: 0.9091\n",
      "Epoch 103/120\n",
      " - 0s - loss: 0.2727 - acc: 0.8546 - val_loss: 0.2107 - val_acc: 0.9091\n",
      "Epoch 104/120\n",
      " - 0s - loss: 0.2704 - acc: 0.8546 - val_loss: 0.2093 - val_acc: 0.9091\n",
      "Epoch 105/120\n",
      " - 0s - loss: 0.2679 - acc: 0.8582 - val_loss: 0.2079 - val_acc: 0.9091\n",
      "Epoch 106/120\n",
      " - 0s - loss: 0.2659 - acc: 0.8617 - val_loss: 0.2057 - val_acc: 0.9394\n",
      "Epoch 107/120\n",
      " - 0s - loss: 0.2641 - acc: 0.8582 - val_loss: 0.2013 - val_acc: 0.9394\n",
      "Epoch 108/120\n",
      " - 0s - loss: 0.2609 - acc: 0.8652 - val_loss: 0.2008 - val_acc: 0.9394\n",
      "Epoch 109/120\n",
      " - 0s - loss: 0.2589 - acc: 0.9007 - val_loss: 0.2005 - val_acc: 0.9697\n",
      "Epoch 110/120\n",
      " - 0s - loss: 0.2563 - acc: 0.9220 - val_loss: 0.1977 - val_acc: 0.9394\n",
      "Epoch 111/120\n",
      " - 0s - loss: 0.2543 - acc: 0.9220 - val_loss: 0.1948 - val_acc: 0.9394\n",
      "Epoch 112/120\n",
      " - 0s - loss: 0.2520 - acc: 0.9220 - val_loss: 0.1941 - val_acc: 0.9697\n",
      "Epoch 113/120\n",
      " - 0s - loss: 0.2503 - acc: 0.9291 - val_loss: 0.1940 - val_acc: 0.9697\n",
      "Epoch 114/120\n",
      " - 0s - loss: 0.2475 - acc: 0.9326 - val_loss: 0.1909 - val_acc: 0.9697\n",
      "Epoch 115/120\n",
      " - 0s - loss: 0.2453 - acc: 0.9255 - val_loss: 0.1877 - val_acc: 0.9697\n",
      "Epoch 116/120\n",
      " - 0s - loss: 0.2434 - acc: 0.9255 - val_loss: 0.1854 - val_acc: 0.9697\n",
      "Epoch 117/120\n",
      " - 0s - loss: 0.2414 - acc: 0.9255 - val_loss: 0.1840 - val_acc: 0.9697\n",
      "Epoch 118/120\n",
      " - 0s - loss: 0.2388 - acc: 0.9362 - val_loss: 0.1852 - val_acc: 0.9697\n",
      "Epoch 119/120\n",
      " - 0s - loss: 0.2365 - acc: 0.9539 - val_loss: 0.1880 - val_acc: 1.0000\n",
      "Epoch 120/120\n",
      " - 0s - loss: 0.2348 - acc: 0.9681 - val_loss: 0.1889 - val_acc: 1.0000\n"
     ]
    }
   ],
   "source": [
    "train_history = model.fit(x=x_train,\n",
    "                          y=y_train_onehot,\n",
    "                          validation_split=0.1,    #90%作為訓練資料，10%作為測試資料\n",
    "                          epochs=120,               #執行120次訓練週期\n",
    "                          batch_size=41,verbose=2) #每一批次50筆資料"
   ]
  },
  {
   "cell_type": "markdown",
   "metadata": {},
   "source": [
    "# e.以圖形顯示訓練過程的loss & accuracy"
   ]
  },
  {
   "cell_type": "code",
   "execution_count": 28,
   "metadata": {},
   "outputs": [],
   "source": [
    "def show_train_history(train_history, train, validation):\n",
    "    plt.plot(train_history.history[train])\n",
    "    plt.plot(train_history.history[validation])\n",
    "    plt.title('Train History')\n",
    "    plt.ylabel(train)\n",
    "    plt.xlabel('Epoch')\n",
    "    plt.legend(['train', 'validation'], loc='upper left')\n",
    "    plt.show()"
   ]
  },
  {
   "cell_type": "code",
   "execution_count": 29,
   "metadata": {},
   "outputs": [
    {
     "data": {
      "image/png": "[encoded data removed]",
      "text/plain": [
       "<Figure size 432x288 with 1 Axes>"
      ]
     },
     "metadata": {
      "needs_background": "light"
     },
     "output_type": "display_data"
    }
   ],
   "source": [
    "show_train_history(train_history, 'acc', 'val_acc') #畫出accuracy執行結果"
   ]
  },
  {
   "cell_type": "code",
   "execution_count": 30,
   "metadata": {},
   "outputs": [
    {
     "data": {
      "image/png": "[encoded data removed]",
      "text/plain": [
       "<Figure size 432x288 with 1 Axes>"
      ]
     },
     "metadata": {
      "needs_background": "light"
     },
     "output_type": "display_data"
    }
   ],
   "source": [
    "show_train_history(train_history, 'loss', 'val_loss') #畫出loss誤差執行結果"
   ]
  },
  {
   "cell_type": "markdown",
   "metadata": {},
   "source": [
    "# f.評估模型準確率"
   ]
  },
  {
   "cell_type": "code",
   "execution_count": 31,
   "metadata": {},
   "outputs": [
    {
     "name": "stdout",
     "output_type": "stream",
     "text": [
      "45/45 [==============================] - 0s 111us/step\n",
      "accuracy= 0.9777777777777777\n"
     ]
    }
   ],
   "source": [
    "scores = model.evaluate(x=x_test, #評估模型準確率\n",
    "                        y=y_test_onehot)\n",
    "print('accuracy=', scores[1]) #顯示準確率"
   ]
  },
  {
   "cell_type": "markdown",
   "metadata": {},
   "source": [
    "# g.進行預測"
   ]
  },
  {
   "cell_type": "code",
   "execution_count": 32,
   "metadata": {},
   "outputs": [
    {
     "data": {
      "text/plain": [
       "array([1, 2, 0, 1, 0, 1, 2, 1, 0, 1, 1, 2, 1, 0, 0, 2, 1, 0, 0, 0, 2, 2,\n",
       "       2, 0, 1, 0, 1, 1, 1, 2, 1, 1, 2, 2, 2, 0, 2, 2, 2, 2, 0, 0, 1, 0,\n",
       "       1], dtype=int64)"
      ]
     },
     "execution_count": 32,
     "metadata": {},
     "output_type": "execute_result"
    }
   ],
   "source": [
    "prediction=model.predict_classes(x_test)\n",
    "prediction"
   ]
  },
  {
   "cell_type": "markdown",
   "metadata": {},
   "source": [
    "# h.混淆矩陣(Confusion matrix)"
   ]
  },
  {
   "cell_type": "code",
   "execution_count": 33,
   "metadata": {},
   "outputs": [
    {
     "data": {
      "text/html": [
       "<div>\n",
       "<style scoped>\n",
       "    .dataframe tbody tr th:only-of-type {\n",
       "        vertical-align: middle;\n",
       "    }\n",
       "\n",
       "    .dataframe tbody tr th {\n",
       "        vertical-align: top;\n",
       "    }\n",
       "\n",
       "    .dataframe thead th {\n",
       "        text-align: right;\n",
       "    }\n",
       "</style>\n",
       "<table border=\"1\" class=\"dataframe\">\n",
       "  <thead>\n",
       "    <tr style=\"text-align: right;\">\n",
       "      <th>predict</th>\n",
       "      <th>0</th>\n",
       "      <th>1</th>\n",
       "      <th>2</th>\n",
       "    </tr>\n",
       "    <tr>\n",
       "      <th>label</th>\n",
       "      <th></th>\n",
       "      <th></th>\n",
       "      <th></th>\n",
       "    </tr>\n",
       "  </thead>\n",
       "  <tbody>\n",
       "    <tr>\n",
       "      <th>0.0</th>\n",
       "      <td>14</td>\n",
       "      <td>0</td>\n",
       "      <td>0</td>\n",
       "    </tr>\n",
       "    <tr>\n",
       "      <th>1.0</th>\n",
       "      <td>0</td>\n",
       "      <td>16</td>\n",
       "      <td>1</td>\n",
       "    </tr>\n",
       "    <tr>\n",
       "      <th>2.0</th>\n",
       "      <td>0</td>\n",
       "      <td>0</td>\n",
       "      <td>14</td>\n",
       "    </tr>\n",
       "  </tbody>\n",
       "</table>\n",
       "</div>"
      ],
      "text/plain": [
       "predict   0   1   2\n",
       "label              \n",
       "0.0      14   0   0\n",
       "1.0       0  16   1\n",
       "2.0       0   0  14"
      ]
     },
     "execution_count": 33,
     "metadata": {},
     "output_type": "execute_result"
    }
   ],
   "source": [
    "pd.crosstab(y_test, prediction,\n",
    "            colnames=['predict'], rownames=['label'])"
   ]
  },
  {
   "cell_type": "code",
   "execution_count": null,
   "metadata": {},
   "outputs": [],
   "source": []
  }
 ],
 "metadata": {
  "kernelspec": {
   "display_name": "Python 3",
   "language": "python",
   "name": "python3"
  },
  "language_info": {
   "codemirror_mode": {
    "name": "ipython",
    "version": 3
   },
   "file_extension": ".py",
   "mimetype": "text/x-python",
   "name": "python",
   "nbconvert_exporter": "python",
   "pygments_lexer": "ipython3",
   "version": "3.7.6"
  }
 },
 "nbformat": 4,
 "nbformat_minor": 4
}
